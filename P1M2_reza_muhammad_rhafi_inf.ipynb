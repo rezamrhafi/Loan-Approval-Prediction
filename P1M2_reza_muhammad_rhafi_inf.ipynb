{
 "cells": [
  {
   "cell_type": "code",
   "execution_count": 1,
   "metadata": {},
   "outputs": [],
   "source": [
    "#import libraries\n",
    "\n",
    "import pickle\n",
    "import pandas as pd\n",
    "import numpy as np"
   ]
  },
  {
   "cell_type": "code",
   "execution_count": 2,
   "metadata": {},
   "outputs": [],
   "source": [
    "with open('model_v1.pkl', 'rb') as file:\n",
    "    model = pickle.load(file)"
   ]
  },
  {
   "cell_type": "code",
   "execution_count": 3,
   "metadata": {},
   "outputs": [],
   "source": [
    "data = { \n",
    "    'person_age': [25,40], \n",
    "    'person_gender': ['male','female'], \n",
    "    'person_education': ['Bachelor', 'Master'], \n",
    "    'person_income': [70000, 100000], \n",
    "    'person_emp_exp': [5,15],\n",
    "    'person_home_ownership': ['RENT', 'OWN'],\n",
    "    'loan_amnt': [5000,3000],\n",
    "    'loan_intent': ['PERSONAL', 'MEDICAL'],\n",
    "    'loan_int_rate': [10, 8],\n",
    "    'loan_percent_income' : [0.10,0.10],\n",
    "    'cb_person_cred_hist_length' : [5,8],\n",
    "    'credit_score' : [500,650],\n",
    "    'previous_loan_defaults_on_file' : ['No','Yes']\n",
    "}\n",
    "\n",
    "data_df = pd.DataFrame(data)"
   ]
  },
  {
   "cell_type": "code",
   "execution_count": 4,
   "metadata": {},
   "outputs": [
    {
     "data": {
      "text/plain": [
       "array([1, 0])"
      ]
     },
     "execution_count": 4,
     "metadata": {},
     "output_type": "execute_result"
    }
   ],
   "source": [
    "# Assuming a pre-trained model loaded as 'model'\n",
    "predictions = model.predict(data_df)\n",
    "predictions"
   ]
  }
 ],
 "metadata": {
  "kernelspec": {
   "display_name": "base",
   "language": "python",
   "name": "python3"
  },
  "language_info": {
   "codemirror_mode": {
    "name": "ipython",
    "version": 3
   },
   "file_extension": ".py",
   "mimetype": "text/x-python",
   "name": "python",
   "nbconvert_exporter": "python",
   "pygments_lexer": "ipython3",
   "version": "3.12.7"
  }
 },
 "nbformat": 4,
 "nbformat_minor": 2
}
