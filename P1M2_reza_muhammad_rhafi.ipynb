{
 "cells": [
  {
   "cell_type": "markdown",
   "metadata": {},
   "source": [
    "# 1. Perkenalan"
   ]
  },
  {
   "cell_type": "markdown",
   "metadata": {},
   "source": [
    "- Nama = Reza Muhammad Rhafi\n",
    "- Batch = HCK-023\n",
    "- Gambaran Dataset = dataset terdiri dari 14 kolom dengan 45000 entry. dataset mempresentasikan informasi tentang umur, gender, education, pengalaman kerja, kepemilikan rumah, jumlah yang ingin dipinjam, maksud dari peminjaman, kredit skor peminjam, dan apakah pernah gagal dalam membayar pinjaman sesuai tenggat waktu.\n",
    "- Objective = saya adalah seorang data scientist di sebuah BANK, saya diminta untuk membuat sebuah model yang dapat memprediksi seseorang dapat menerima pinjaman sehingga orang yang ingin melakukan pengecekan apakah mereka dapat melakukan peminjaman atau tidak."
   ]
  },
  {
   "cell_type": "markdown",
   "metadata": {},
   "source": [
    "## Conceptual Problems"
   ]
  },
  {
   "cell_type": "markdown",
   "metadata": {},
   "source": [
    "### Jelaskan latar belakang adanya bagging dan cara kerja bagging !"
   ]
  },
  {
   "cell_type": "markdown",
   "metadata": {},
   "source": [
    "Bagging adalah teknik ensemble yang dikembangkan untuk mengatasi masalah performa model prediktif, khususnya untuk model yang memiliki masalah overfitting (seperti Decision Tree) atau model yang kurang stabil. cara kerja dari bagging adalah melibatkan pelatihan beberapa model secara independen dan menggabungkan prediksi mereka melalui perataan atau pemungutan suara "
   ]
  },
  {
   "cell_type": "markdown",
   "metadata": {},
   "source": [
    "### Jelaskan perbedaan cara kerja algoritma Random Forest dengan algoritma boosting yang Anda pilih !"
   ]
  },
  {
   "cell_type": "markdown",
   "metadata": {},
   "source": [
    "Random Forest adalah algoritma yang menggunakan metode bagging, di mana ia membuat banyak Decision Tree independen dari subset data yang dihasilkan melalui bootstrapping, dan hasil akhir diperoleh dengan voting mayoritas (untuk klasifikasi) dari semua pohon. Sedangkan XGBoost menggunakan pendekatan boosting, di mana ia membangun pohon secara berurutan. Setiap pohon baru mencoba memperbaiki kesalahan pohon sebelumnya dengan meminimalkan fungsi loss melalui pengoptimalan gradien."
   ]
  },
  {
   "cell_type": "markdown",
   "metadata": {},
   "source": [
    "### Jelaskan apa yang dimaksud dengan Cross Validation !"
   ]
  },
  {
   "cell_type": "markdown",
   "metadata": {},
   "source": [
    "Cross-validation adalah teknik evaluasi model yang digunakan untuk menilai kemampuan generalisasi suatu model terhadap data baru dengan cara membagi data menjadi beberapa subset. Proses ini bertujuan untuk mengurangi overfitting atau underfitting dan memastikan model memiliki performa yang konsisten."
   ]
  },
  {
   "cell_type": "markdown",
   "metadata": {},
   "source": [
    "# 2. Import Libraries"
   ]
  },
  {
   "cell_type": "code",
   "execution_count": 68,
   "metadata": {},
   "outputs": [],
   "source": [
    "# Data Manipulation\n",
    "import pandas as pd\n",
    "import numpy as np\n",
    "from sklearn.preprocessing import MinMaxScaler, OneHotEncoder, LabelEncoder, OrdinalEncoder\n",
    "from sklearn.pipeline import Pipeline\n",
    "\n",
    "from sklearn.model_selection import cross_val_score\n",
    "from sklearn.model_selection import train_test_split\n",
    "from sklearn.compose import ColumnTransformer\n",
    "from scipy import stats\n",
    "from scipy.stats import kendalltau\n",
    "import pickle\n",
    "from sklearn.neighbors import KNeighborsClassifier\n",
    "from sklearn.svm import SVC\n",
    "from sklearn.tree import DecisionTreeClassifier\n",
    "from sklearn.ensemble import RandomForestClassifier\n",
    "from xgboost import XGBClassifier\n",
    "from sklearn.feature_selection import chi2\n",
    "import pandas as pd\n",
    "from sklearn.metrics import classification_report, accuracy_score, f1_score\n",
    "from sklearn.model_selection import GridSearchCV\n",
    "\n",
    "# Data Visualization\n",
    "import matplotlib.pyplot as plt\n",
    "import seaborn as sns"
   ]
  },
  {
   "cell_type": "markdown",
   "metadata": {},
   "source": [
    "# 3. Data Loading"
   ]
  },
  {
   "cell_type": "code",
   "execution_count": 69,
   "metadata": {},
   "outputs": [
    {
     "data": {
      "text/html": [
       "<div>\n",
       "<style scoped>\n",
       "    .dataframe tbody tr th:only-of-type {\n",
       "        vertical-align: middle;\n",
       "    }\n",
       "\n",
       "    .dataframe tbody tr th {\n",
       "        vertical-align: top;\n",
       "    }\n",
       "\n",
       "    .dataframe thead th {\n",
       "        text-align: right;\n",
       "    }\n",
       "</style>\n",
       "<table border=\"1\" class=\"dataframe\">\n",
       "  <thead>\n",
       "    <tr style=\"text-align: right;\">\n",
       "      <th></th>\n",
       "      <th>person_age</th>\n",
       "      <th>person_gender</th>\n",
       "      <th>person_education</th>\n",
       "      <th>person_income</th>\n",
       "      <th>person_emp_exp</th>\n",
       "      <th>person_home_ownership</th>\n",
       "      <th>loan_amnt</th>\n",
       "      <th>loan_intent</th>\n",
       "      <th>loan_int_rate</th>\n",
       "      <th>loan_percent_income</th>\n",
       "      <th>cb_person_cred_hist_length</th>\n",
       "      <th>credit_score</th>\n",
       "      <th>previous_loan_defaults_on_file</th>\n",
       "      <th>loan_status</th>\n",
       "    </tr>\n",
       "  </thead>\n",
       "  <tbody>\n",
       "    <tr>\n",
       "      <th>0</th>\n",
       "      <td>22.0</td>\n",
       "      <td>female</td>\n",
       "      <td>Master</td>\n",
       "      <td>71948.0</td>\n",
       "      <td>0</td>\n",
       "      <td>RENT</td>\n",
       "      <td>35000.0</td>\n",
       "      <td>PERSONAL</td>\n",
       "      <td>16.02</td>\n",
       "      <td>0.49</td>\n",
       "      <td>3.0</td>\n",
       "      <td>561</td>\n",
       "      <td>No</td>\n",
       "      <td>1</td>\n",
       "    </tr>\n",
       "    <tr>\n",
       "      <th>1</th>\n",
       "      <td>21.0</td>\n",
       "      <td>female</td>\n",
       "      <td>High School</td>\n",
       "      <td>12282.0</td>\n",
       "      <td>0</td>\n",
       "      <td>OWN</td>\n",
       "      <td>1000.0</td>\n",
       "      <td>EDUCATION</td>\n",
       "      <td>11.14</td>\n",
       "      <td>0.08</td>\n",
       "      <td>2.0</td>\n",
       "      <td>504</td>\n",
       "      <td>Yes</td>\n",
       "      <td>0</td>\n",
       "    </tr>\n",
       "    <tr>\n",
       "      <th>2</th>\n",
       "      <td>25.0</td>\n",
       "      <td>female</td>\n",
       "      <td>High School</td>\n",
       "      <td>12438.0</td>\n",
       "      <td>3</td>\n",
       "      <td>MORTGAGE</td>\n",
       "      <td>5500.0</td>\n",
       "      <td>MEDICAL</td>\n",
       "      <td>12.87</td>\n",
       "      <td>0.44</td>\n",
       "      <td>3.0</td>\n",
       "      <td>635</td>\n",
       "      <td>No</td>\n",
       "      <td>1</td>\n",
       "    </tr>\n",
       "    <tr>\n",
       "      <th>3</th>\n",
       "      <td>23.0</td>\n",
       "      <td>female</td>\n",
       "      <td>Bachelor</td>\n",
       "      <td>79753.0</td>\n",
       "      <td>0</td>\n",
       "      <td>RENT</td>\n",
       "      <td>35000.0</td>\n",
       "      <td>MEDICAL</td>\n",
       "      <td>15.23</td>\n",
       "      <td>0.44</td>\n",
       "      <td>2.0</td>\n",
       "      <td>675</td>\n",
       "      <td>No</td>\n",
       "      <td>1</td>\n",
       "    </tr>\n",
       "    <tr>\n",
       "      <th>4</th>\n",
       "      <td>24.0</td>\n",
       "      <td>male</td>\n",
       "      <td>Master</td>\n",
       "      <td>66135.0</td>\n",
       "      <td>1</td>\n",
       "      <td>RENT</td>\n",
       "      <td>35000.0</td>\n",
       "      <td>MEDICAL</td>\n",
       "      <td>14.27</td>\n",
       "      <td>0.53</td>\n",
       "      <td>4.0</td>\n",
       "      <td>586</td>\n",
       "      <td>No</td>\n",
       "      <td>1</td>\n",
       "    </tr>\n",
       "    <tr>\n",
       "      <th>...</th>\n",
       "      <td>...</td>\n",
       "      <td>...</td>\n",
       "      <td>...</td>\n",
       "      <td>...</td>\n",
       "      <td>...</td>\n",
       "      <td>...</td>\n",
       "      <td>...</td>\n",
       "      <td>...</td>\n",
       "      <td>...</td>\n",
       "      <td>...</td>\n",
       "      <td>...</td>\n",
       "      <td>...</td>\n",
       "      <td>...</td>\n",
       "      <td>...</td>\n",
       "    </tr>\n",
       "    <tr>\n",
       "      <th>44995</th>\n",
       "      <td>27.0</td>\n",
       "      <td>male</td>\n",
       "      <td>Associate</td>\n",
       "      <td>47971.0</td>\n",
       "      <td>6</td>\n",
       "      <td>RENT</td>\n",
       "      <td>15000.0</td>\n",
       "      <td>MEDICAL</td>\n",
       "      <td>15.66</td>\n",
       "      <td>0.31</td>\n",
       "      <td>3.0</td>\n",
       "      <td>645</td>\n",
       "      <td>No</td>\n",
       "      <td>1</td>\n",
       "    </tr>\n",
       "    <tr>\n",
       "      <th>44996</th>\n",
       "      <td>37.0</td>\n",
       "      <td>female</td>\n",
       "      <td>Associate</td>\n",
       "      <td>65800.0</td>\n",
       "      <td>17</td>\n",
       "      <td>RENT</td>\n",
       "      <td>9000.0</td>\n",
       "      <td>HOMEIMPROVEMENT</td>\n",
       "      <td>14.07</td>\n",
       "      <td>0.14</td>\n",
       "      <td>11.0</td>\n",
       "      <td>621</td>\n",
       "      <td>No</td>\n",
       "      <td>1</td>\n",
       "    </tr>\n",
       "    <tr>\n",
       "      <th>44997</th>\n",
       "      <td>33.0</td>\n",
       "      <td>male</td>\n",
       "      <td>Associate</td>\n",
       "      <td>56942.0</td>\n",
       "      <td>7</td>\n",
       "      <td>RENT</td>\n",
       "      <td>2771.0</td>\n",
       "      <td>DEBTCONSOLIDATION</td>\n",
       "      <td>10.02</td>\n",
       "      <td>0.05</td>\n",
       "      <td>10.0</td>\n",
       "      <td>668</td>\n",
       "      <td>No</td>\n",
       "      <td>1</td>\n",
       "    </tr>\n",
       "    <tr>\n",
       "      <th>44998</th>\n",
       "      <td>29.0</td>\n",
       "      <td>male</td>\n",
       "      <td>Bachelor</td>\n",
       "      <td>33164.0</td>\n",
       "      <td>4</td>\n",
       "      <td>RENT</td>\n",
       "      <td>12000.0</td>\n",
       "      <td>EDUCATION</td>\n",
       "      <td>13.23</td>\n",
       "      <td>0.36</td>\n",
       "      <td>6.0</td>\n",
       "      <td>604</td>\n",
       "      <td>No</td>\n",
       "      <td>1</td>\n",
       "    </tr>\n",
       "    <tr>\n",
       "      <th>44999</th>\n",
       "      <td>24.0</td>\n",
       "      <td>male</td>\n",
       "      <td>High School</td>\n",
       "      <td>51609.0</td>\n",
       "      <td>1</td>\n",
       "      <td>RENT</td>\n",
       "      <td>6665.0</td>\n",
       "      <td>DEBTCONSOLIDATION</td>\n",
       "      <td>17.05</td>\n",
       "      <td>0.13</td>\n",
       "      <td>3.0</td>\n",
       "      <td>628</td>\n",
       "      <td>No</td>\n",
       "      <td>1</td>\n",
       "    </tr>\n",
       "  </tbody>\n",
       "</table>\n",
       "<p>45000 rows × 14 columns</p>\n",
       "</div>"
      ],
      "text/plain": [
       "       person_age person_gender person_education  person_income  \\\n",
       "0            22.0        female           Master        71948.0   \n",
       "1            21.0        female      High School        12282.0   \n",
       "2            25.0        female      High School        12438.0   \n",
       "3            23.0        female         Bachelor        79753.0   \n",
       "4            24.0          male           Master        66135.0   \n",
       "...           ...           ...              ...            ...   \n",
       "44995        27.0          male        Associate        47971.0   \n",
       "44996        37.0        female        Associate        65800.0   \n",
       "44997        33.0          male        Associate        56942.0   \n",
       "44998        29.0          male         Bachelor        33164.0   \n",
       "44999        24.0          male      High School        51609.0   \n",
       "\n",
       "       person_emp_exp person_home_ownership  loan_amnt        loan_intent  \\\n",
       "0                   0                  RENT    35000.0           PERSONAL   \n",
       "1                   0                   OWN     1000.0          EDUCATION   \n",
       "2                   3              MORTGAGE     5500.0            MEDICAL   \n",
       "3                   0                  RENT    35000.0            MEDICAL   \n",
       "4                   1                  RENT    35000.0            MEDICAL   \n",
       "...               ...                   ...        ...                ...   \n",
       "44995               6                  RENT    15000.0            MEDICAL   \n",
       "44996              17                  RENT     9000.0    HOMEIMPROVEMENT   \n",
       "44997               7                  RENT     2771.0  DEBTCONSOLIDATION   \n",
       "44998               4                  RENT    12000.0          EDUCATION   \n",
       "44999               1                  RENT     6665.0  DEBTCONSOLIDATION   \n",
       "\n",
       "       loan_int_rate  loan_percent_income  cb_person_cred_hist_length  \\\n",
       "0              16.02                 0.49                         3.0   \n",
       "1              11.14                 0.08                         2.0   \n",
       "2              12.87                 0.44                         3.0   \n",
       "3              15.23                 0.44                         2.0   \n",
       "4              14.27                 0.53                         4.0   \n",
       "...              ...                  ...                         ...   \n",
       "44995          15.66                 0.31                         3.0   \n",
       "44996          14.07                 0.14                        11.0   \n",
       "44997          10.02                 0.05                        10.0   \n",
       "44998          13.23                 0.36                         6.0   \n",
       "44999          17.05                 0.13                         3.0   \n",
       "\n",
       "       credit_score previous_loan_defaults_on_file  loan_status  \n",
       "0               561                             No            1  \n",
       "1               504                            Yes            0  \n",
       "2               635                             No            1  \n",
       "3               675                             No            1  \n",
       "4               586                             No            1  \n",
       "...             ...                            ...          ...  \n",
       "44995           645                             No            1  \n",
       "44996           621                             No            1  \n",
       "44997           668                             No            1  \n",
       "44998           604                             No            1  \n",
       "44999           628                             No            1  \n",
       "\n",
       "[45000 rows x 14 columns]"
      ]
     },
     "execution_count": 69,
     "metadata": {},
     "output_type": "execute_result"
    }
   ],
   "source": [
    "df = pd.read_csv('loan_data.csv')\n",
    "df"
   ]
  },
  {
   "cell_type": "code",
   "execution_count": 70,
   "metadata": {},
   "outputs": [
    {
     "name": "stdout",
     "output_type": "stream",
     "text": [
      "<class 'pandas.core.frame.DataFrame'>\n",
      "RangeIndex: 45000 entries, 0 to 44999\n",
      "Data columns (total 14 columns):\n",
      " #   Column                          Non-Null Count  Dtype  \n",
      "---  ------                          --------------  -----  \n",
      " 0   person_age                      45000 non-null  float64\n",
      " 1   person_gender                   45000 non-null  object \n",
      " 2   person_education                45000 non-null  object \n",
      " 3   person_income                   45000 non-null  float64\n",
      " 4   person_emp_exp                  45000 non-null  int64  \n",
      " 5   person_home_ownership           45000 non-null  object \n",
      " 6   loan_amnt                       45000 non-null  float64\n",
      " 7   loan_intent                     45000 non-null  object \n",
      " 8   loan_int_rate                   45000 non-null  float64\n",
      " 9   loan_percent_income             45000 non-null  float64\n",
      " 10  cb_person_cred_hist_length      45000 non-null  float64\n",
      " 11  credit_score                    45000 non-null  int64  \n",
      " 12  previous_loan_defaults_on_file  45000 non-null  object \n",
      " 13  loan_status                     45000 non-null  int64  \n",
      "dtypes: float64(6), int64(3), object(5)\n",
      "memory usage: 4.8+ MB\n"
     ]
    }
   ],
   "source": [
    "df.info()"
   ]
  },
  {
   "cell_type": "code",
   "execution_count": 71,
   "metadata": {},
   "outputs": [
    {
     "data": {
      "text/plain": [
       "np.int64(0)"
      ]
     },
     "execution_count": 71,
     "metadata": {},
     "output_type": "execute_result"
    }
   ],
   "source": [
    "df.duplicated().sum()"
   ]
  },
  {
   "cell_type": "markdown",
   "metadata": {},
   "source": [
    "- person_age (Float):\n",
    "Usia seseorang dalam tahun, direpresentasikan dalam angka desimal. Misalnya, seseorang berusia 25.5 tahun.\n",
    "\n",
    "- person_gender (Categorical):\n",
    "Jenis kelamin individu, biasanya berupa kategori seperti \"Male\", \"Female\"\n",
    "\n",
    "- person_education (Categorical):\n",
    "Tingkat pendidikan tertinggi yang diraih oleh individu.\n",
    "\n",
    "- person_income (Float):\n",
    "Pendapatan tahunan individu dalam bentuk angka desimal.\n",
    "\n",
    "- person_emp_exp (Integer):\n",
    "Lama pengalaman kerja individu dalam tahun. Misalnya, 5 berarti individu tersebut memiliki pengalaman kerja selama 5 tahun.\n",
    "\n",
    "- person_home_ownership (Categorical):\n",
    "Status kepemilikan rumah, seperti \"Rent\" (menyewa), \"Own\" (memiliki), atau \"Mortgage\" (kredit rumah).\n",
    "\n",
    "- loan_amnt (Float):\n",
    "Jumlah pinjaman yang diminta oleh individu dalam bentuk angka desimal.\n",
    "\n",
    "- loan_intent (Categorical):\n",
    "Tujuan dari pinjaman yang diminta, seperti \"Education\" (pendidikan), \"Business\" (usaha), \"Home Improvement\" (perbaikan rumah), dan lain-lain.\n",
    "\n",
    "- loan_int_rate (Float):\n",
    "Suku bunga pinjaman.\n",
    "\n",
    "- loan_percent_income (Float):\n",
    "Rasio jumlah pinjaman terhadap pendapatan tahunan individu, dinyatakan sebagai persentase. Misalnya, 0.2 berarti pinjaman sebesar 20% dari pendapatan tahunan.\n",
    "\n",
    "- cb_person_cred_hist_length (Float):\n",
    "Panjang riwayat kredit individu dalam tahun. Misalnya, jika seseorang memiliki riwayat kredit selama 7.5 tahun, maka nilai ini adalah 7.5.\n",
    "\n",
    "- credit_score (Integer):\n",
    "Skor kredit individu yang mencerminkan kelayakan kredit mereka, biasanya berada pada rentang tertentu seperti 300-850.\n",
    "\n",
    "- previous_loan_defaults_on_file (Categorical):\n",
    "Indikator apakah individu pernah gagal bayar pinjaman sebelumnya, biasanya \"Yes\" (pernah) atau \"No\" (tidak pernah).\n",
    "\n",
    "- loan_status (Categorical):\n",
    "Status persetujuan pinjaman, di mana 1 menunjukkan pinjaman disetujui dan 0 menunjukkan pinjaman ditolak."
   ]
  },
  {
   "cell_type": "markdown",
   "metadata": {},
   "source": [
    "# 4. Exploratory Data Analysis (EDA)"
   ]
  },
  {
   "cell_type": "markdown",
   "metadata": {},
   "source": [
    "## 1. berapa jumlah peminjaman yang sering diajukan oleh peminjam"
   ]
  },
  {
   "cell_type": "code",
   "execution_count": 157,
   "metadata": {},
   "outputs": [
    {
     "data": {
      "text/plain": [
       "<Axes: xlabel='loan_amnt', ylabel='Count'>"
      ]
     },
     "execution_count": 157,
     "metadata": {},
     "output_type": "execute_result"
    },
    {
     "data": {
      "image/png": "[encoded data removed]",
      "text/plain": [
       "<Figure size 640x480 with 1 Axes>"
      ]
     },
     "metadata": {},
     "output_type": "display_data"
    }
   ],
   "source": [
    "sns.histplot(df['loan_amnt'], bins=10, kde=True, color='orange')"
   ]
  },
  {
   "cell_type": "markdown",
   "metadata": {},
   "source": [
    "berdasarkan plot, rata-rata orang akan meminta peminjaman dirange sebesar 5000 hingga 10000. sehingga jika seseorang ingin melakukan peminjaman, sebaiknya meminjam direntang 5000 hingga 10000"
   ]
  },
  {
   "cell_type": "markdown",
   "metadata": {},
   "source": [
    "## 2. Direntang umur berapakah seseorang sering melakukan peminjaman"
   ]
  },
  {
   "cell_type": "code",
   "execution_count": 73,
   "metadata": {},
   "outputs": [
    {
     "data": {
      "text/plain": [
       "<Axes: xlabel='person_age', ylabel='Count'>"
      ]
     },
     "execution_count": 73,
     "metadata": {},
     "output_type": "execute_result"
    },
    {
     "data": {
      "image/png": "[encoded data removed]",
      "text/plain": [
       "<Figure size 640x480 with 1 Axes>"
      ]
     },
     "metadata": {},
     "output_type": "display_data"
    }
   ],
   "source": [
    "sns.histplot(df['person_age'], bins=40, kde=True, color='skyblue')"
   ]
  },
  {
   "cell_type": "markdown",
   "metadata": {},
   "source": [
    "dari dataset, rata-rata orang yang ingin melakukan peminjaman berada diumur 20 hingga 30 tahun "
   ]
  },
  {
   "cell_type": "markdown",
   "metadata": {},
   "source": [
    "## 3. Bagaimana distribusi dari skor kredit peminjam"
   ]
  },
  {
   "cell_type": "code",
   "execution_count": 74,
   "metadata": {},
   "outputs": [
    {
     "data": {
      "text/plain": [
       "<Axes: xlabel='credit_score', ylabel='Count'>"
      ]
     },
     "execution_count": 74,
     "metadata": {},
     "output_type": "execute_result"
    },
    {
     "data": {
      "image/png": "[encoded data removed]",
      "text/plain": [
       "<Figure size 640x480 with 1 Axes>"
      ]
     },
     "metadata": {},
     "output_type": "display_data"
    }
   ],
   "source": [
    "sns.histplot(df['credit_score'], bins=50, kde=True, color='green')"
   ]
  },
  {
   "cell_type": "markdown",
   "metadata": {},
   "source": [
    "Skor kredit peminjaman adalah angka yang digunakan untuk menilai kelayakan kredit seseorang atau kemampuan individu untuk membayar kembali pinjaman. jika semakin tinggi nilai skor kredit seseorang maka dia melakukan pembayaran utang sebelumnya tepat waktu. berdasarkan chart, kebanyakan kredit skor peminjam berada disekitar 600 hingga 700 yang mana individu tersebut memiliki kelayakan kredit yang bagus."
   ]
  },
  {
   "cell_type": "markdown",
   "metadata": {},
   "source": [
    "## 4. apakah orang yang menyewa tempat tinggal lebih banyak yang ingin melakukan peminjaman daripada yang sudah memiliki rumah sendiri?  "
   ]
  },
  {
   "cell_type": "code",
   "execution_count": 75,
   "metadata": {},
   "outputs": [
    {
     "name": "stderr",
     "output_type": "stream",
     "text": [
      "C:\\Users\\Vexen\\AppData\\Local\\Temp\\ipykernel_7596\\2795519465.py:1: FutureWarning: \n",
      "\n",
      "Passing `palette` without assigning `hue` is deprecated and will be removed in v0.14.0. Assign the `x` variable to `hue` and set `legend=False` for the same effect.\n",
      "\n",
      "  sns.countplot(x='person_home_ownership', data=df, palette='muted')\n"
     ]
    },
    {
     "data": {
      "text/plain": [
       "<Axes: xlabel='person_home_ownership', ylabel='count'>"
      ]
     },
     "execution_count": 75,
     "metadata": {},
     "output_type": "execute_result"
    },
    {
     "data": {
      "image/png": "[encoded data removed]",
      "text/plain": [
       "<Figure size 640x480 with 1 Axes>"
      ]
     },
     "metadata": {},
     "output_type": "display_data"
    }
   ],
   "source": [
    "sns.countplot(x='person_home_ownership', data=df, palette='muted')"
   ]
  },
  {
   "cell_type": "markdown",
   "metadata": {},
   "source": [
    "berdasarkan chart, kebanyakan orang yang ingin melakukan peminjaman adalah orang yang masih menyewa tempat tinggal dan kredit rumah."
   ]
  },
  {
   "cell_type": "markdown",
   "metadata": {},
   "source": [
    "## 5. Untuk tujuan apa kebanyakan orang akan melakukan peminjaman"
   ]
  },
  {
   "cell_type": "code",
   "execution_count": 131,
   "metadata": {},
   "outputs": [
    {
     "name": "stderr",
     "output_type": "stream",
     "text": [
      "C:\\Users\\Vexen\\AppData\\Local\\Temp\\ipykernel_7596\\655651578.py:1: FutureWarning: \n",
      "\n",
      "Passing `palette` without assigning `hue` is deprecated and will be removed in v0.14.0. Assign the `x` variable to `hue` and set `legend=False` for the same effect.\n",
      "\n",
      "  sns.countplot(\n"
     ]
    },
    {
     "data": {
      "image/png": "[encoded data removed]",
      "text/plain": [
       "<Figure size 640x480 with 1 Axes>"
      ]
     },
     "metadata": {},
     "output_type": "display_data"
    }
   ],
   "source": [
    "sns.countplot(\n",
    "    data=df,            \n",
    "    x='loan_intent',             \n",
    "    order=df['loan_intent'].value_counts().index, \n",
    "    palette=\"viridis\"              \n",
    ")\n",
    "plt.title(\"Count of Loan Intent\")\n",
    "plt.xlabel(\"Loan Intent\")\n",
    "plt.ylabel(\"Count\")\n",
    "plt.xticks(rotation=30)  # Atur rotasi label x-axis agar mudah dibaca\n",
    "plt.show()"
   ]
  },
  {
   "cell_type": "markdown",
   "metadata": {},
   "source": [
    "berdasarkan dataset, kebanyakan orang biasanya akan melakukan peminjaman untuk tujuan pendidikan dan kesehatan. pendidikan dan kesehatan merupakan 2 hal yang sangat penting sehingga orang-orang akan melakukan peminjaman apabila terdesak."
   ]
  },
  {
   "cell_type": "markdown",
   "metadata": {},
   "source": [
    "# 5. Feature Engineering"
   ]
  },
  {
   "cell_type": "markdown",
   "metadata": {},
   "source": [
    "## Check Cardinality"
   ]
  },
  {
   "cell_type": "code",
   "execution_count": 76,
   "metadata": {},
   "outputs": [
    {
     "data": {
      "text/html": [
       "<div>\n",
       "<style scoped>\n",
       "    .dataframe tbody tr th:only-of-type {\n",
       "        vertical-align: middle;\n",
       "    }\n",
       "\n",
       "    .dataframe tbody tr th {\n",
       "        vertical-align: top;\n",
       "    }\n",
       "\n",
       "    .dataframe thead th {\n",
       "        text-align: right;\n",
       "    }\n",
       "</style>\n",
       "<table border=\"1\" class=\"dataframe\">\n",
       "  <thead>\n",
       "    <tr style=\"text-align: right;\">\n",
       "      <th></th>\n",
       "      <th>nama kolom</th>\n",
       "      <th>jumlah nilai unique</th>\n",
       "      <th>nilai unique</th>\n",
       "    </tr>\n",
       "  </thead>\n",
       "  <tbody>\n",
       "    <tr>\n",
       "      <th>0</th>\n",
       "      <td>person_gender</td>\n",
       "      <td>2</td>\n",
       "      <td>[female, male]</td>\n",
       "    </tr>\n",
       "    <tr>\n",
       "      <th>1</th>\n",
       "      <td>person_education</td>\n",
       "      <td>5</td>\n",
       "      <td>[Master, High School, Bachelor, Associate, Doctorate]</td>\n",
       "    </tr>\n",
       "    <tr>\n",
       "      <th>2</th>\n",
       "      <td>person_home_ownership</td>\n",
       "      <td>4</td>\n",
       "      <td>[RENT, OWN, MORTGAGE, OTHER]</td>\n",
       "    </tr>\n",
       "    <tr>\n",
       "      <th>3</th>\n",
       "      <td>loan_intent</td>\n",
       "      <td>6</td>\n",
       "      <td>[PERSONAL, EDUCATION, MEDICAL, VENTURE, HOMEIMPROVEMENT, DEBTCONSOLIDATION]</td>\n",
       "    </tr>\n",
       "    <tr>\n",
       "      <th>4</th>\n",
       "      <td>previous_loan_defaults_on_file</td>\n",
       "      <td>2</td>\n",
       "      <td>[No, Yes]</td>\n",
       "    </tr>\n",
       "  </tbody>\n",
       "</table>\n",
       "</div>"
      ],
      "text/plain": [
       "                       nama kolom  jumlah nilai unique  \\\n",
       "0                   person_gender                    2   \n",
       "1                person_education                    5   \n",
       "2           person_home_ownership                    4   \n",
       "3                     loan_intent                    6   \n",
       "4  previous_loan_defaults_on_file                    2   \n",
       "\n",
       "                                                                  nilai unique  \n",
       "0                                                               [female, male]  \n",
       "1                        [Master, High School, Bachelor, Associate, Doctorate]  \n",
       "2                                                 [RENT, OWN, MORTGAGE, OTHER]  \n",
       "3  [PERSONAL, EDUCATION, MEDICAL, VENTURE, HOMEIMPROVEMENT, DEBTCONSOLIDATION]  \n",
       "4                                                                    [No, Yes]  "
      ]
     },
     "execution_count": 76,
     "metadata": {},
     "output_type": "execute_result"
    }
   ],
   "source": [
    "pd.set_option('display.max_colwidth', None)\n",
    "\n",
    "cat_cols = list(df.select_dtypes(include='object').columns)\n",
    "\n",
    "listItem = []\n",
    "for col in cat_cols:\n",
    "  listItem.append([col, df[col].nunique(), df[col].unique()])\n",
    "\n",
    "pd.DataFrame(columns=['nama kolom', 'jumlah nilai unique', 'nilai unique'], data=listItem)"
   ]
  },
  {
   "cell_type": "markdown",
   "metadata": {},
   "source": [
    "berdasarkan cardinality dari feature categorical, tidak terdapat feature yang memiliki high cardinality. "
   ]
  },
  {
   "cell_type": "markdown",
   "metadata": {},
   "source": [
    "## Split X dan y"
   ]
  },
  {
   "cell_type": "code",
   "execution_count": 77,
   "metadata": {},
   "outputs": [
    {
     "data": {
      "text/html": [
       "<div>\n",
       "<style scoped>\n",
       "    .dataframe tbody tr th:only-of-type {\n",
       "        vertical-align: middle;\n",
       "    }\n",
       "\n",
       "    .dataframe tbody tr th {\n",
       "        vertical-align: top;\n",
       "    }\n",
       "\n",
       "    .dataframe thead th {\n",
       "        text-align: right;\n",
       "    }\n",
       "</style>\n",
       "<table border=\"1\" class=\"dataframe\">\n",
       "  <thead>\n",
       "    <tr style=\"text-align: right;\">\n",
       "      <th></th>\n",
       "      <th>person_age</th>\n",
       "      <th>person_gender</th>\n",
       "      <th>person_education</th>\n",
       "      <th>person_income</th>\n",
       "      <th>person_emp_exp</th>\n",
       "      <th>person_home_ownership</th>\n",
       "      <th>loan_amnt</th>\n",
       "      <th>loan_intent</th>\n",
       "      <th>loan_int_rate</th>\n",
       "      <th>loan_percent_income</th>\n",
       "      <th>cb_person_cred_hist_length</th>\n",
       "      <th>credit_score</th>\n",
       "      <th>previous_loan_defaults_on_file</th>\n",
       "    </tr>\n",
       "  </thead>\n",
       "  <tbody>\n",
       "    <tr>\n",
       "      <th>0</th>\n",
       "      <td>22.0</td>\n",
       "      <td>female</td>\n",
       "      <td>Master</td>\n",
       "      <td>71948.0</td>\n",
       "      <td>0</td>\n",
       "      <td>RENT</td>\n",
       "      <td>35000.0</td>\n",
       "      <td>PERSONAL</td>\n",
       "      <td>16.02</td>\n",
       "      <td>0.49</td>\n",
       "      <td>3.0</td>\n",
       "      <td>561</td>\n",
       "      <td>No</td>\n",
       "    </tr>\n",
       "    <tr>\n",
       "      <th>1</th>\n",
       "      <td>21.0</td>\n",
       "      <td>female</td>\n",
       "      <td>High School</td>\n",
       "      <td>12282.0</td>\n",
       "      <td>0</td>\n",
       "      <td>OWN</td>\n",
       "      <td>1000.0</td>\n",
       "      <td>EDUCATION</td>\n",
       "      <td>11.14</td>\n",
       "      <td>0.08</td>\n",
       "      <td>2.0</td>\n",
       "      <td>504</td>\n",
       "      <td>Yes</td>\n",
       "    </tr>\n",
       "    <tr>\n",
       "      <th>2</th>\n",
       "      <td>25.0</td>\n",
       "      <td>female</td>\n",
       "      <td>High School</td>\n",
       "      <td>12438.0</td>\n",
       "      <td>3</td>\n",
       "      <td>MORTGAGE</td>\n",
       "      <td>5500.0</td>\n",
       "      <td>MEDICAL</td>\n",
       "      <td>12.87</td>\n",
       "      <td>0.44</td>\n",
       "      <td>3.0</td>\n",
       "      <td>635</td>\n",
       "      <td>No</td>\n",
       "    </tr>\n",
       "    <tr>\n",
       "      <th>3</th>\n",
       "      <td>23.0</td>\n",
       "      <td>female</td>\n",
       "      <td>Bachelor</td>\n",
       "      <td>79753.0</td>\n",
       "      <td>0</td>\n",
       "      <td>RENT</td>\n",
       "      <td>35000.0</td>\n",
       "      <td>MEDICAL</td>\n",
       "      <td>15.23</td>\n",
       "      <td>0.44</td>\n",
       "      <td>2.0</td>\n",
       "      <td>675</td>\n",
       "      <td>No</td>\n",
       "    </tr>\n",
       "    <tr>\n",
       "      <th>4</th>\n",
       "      <td>24.0</td>\n",
       "      <td>male</td>\n",
       "      <td>Master</td>\n",
       "      <td>66135.0</td>\n",
       "      <td>1</td>\n",
       "      <td>RENT</td>\n",
       "      <td>35000.0</td>\n",
       "      <td>MEDICAL</td>\n",
       "      <td>14.27</td>\n",
       "      <td>0.53</td>\n",
       "      <td>4.0</td>\n",
       "      <td>586</td>\n",
       "      <td>No</td>\n",
       "    </tr>\n",
       "    <tr>\n",
       "      <th>...</th>\n",
       "      <td>...</td>\n",
       "      <td>...</td>\n",
       "      <td>...</td>\n",
       "      <td>...</td>\n",
       "      <td>...</td>\n",
       "      <td>...</td>\n",
       "      <td>...</td>\n",
       "      <td>...</td>\n",
       "      <td>...</td>\n",
       "      <td>...</td>\n",
       "      <td>...</td>\n",
       "      <td>...</td>\n",
       "      <td>...</td>\n",
       "    </tr>\n",
       "    <tr>\n",
       "      <th>44995</th>\n",
       "      <td>27.0</td>\n",
       "      <td>male</td>\n",
       "      <td>Associate</td>\n",
       "      <td>47971.0</td>\n",
       "      <td>6</td>\n",
       "      <td>RENT</td>\n",
       "      <td>15000.0</td>\n",
       "      <td>MEDICAL</td>\n",
       "      <td>15.66</td>\n",
       "      <td>0.31</td>\n",
       "      <td>3.0</td>\n",
       "      <td>645</td>\n",
       "      <td>No</td>\n",
       "    </tr>\n",
       "    <tr>\n",
       "      <th>44996</th>\n",
       "      <td>37.0</td>\n",
       "      <td>female</td>\n",
       "      <td>Associate</td>\n",
       "      <td>65800.0</td>\n",
       "      <td>17</td>\n",
       "      <td>RENT</td>\n",
       "      <td>9000.0</td>\n",
       "      <td>HOMEIMPROVEMENT</td>\n",
       "      <td>14.07</td>\n",
       "      <td>0.14</td>\n",
       "      <td>11.0</td>\n",
       "      <td>621</td>\n",
       "      <td>No</td>\n",
       "    </tr>\n",
       "    <tr>\n",
       "      <th>44997</th>\n",
       "      <td>33.0</td>\n",
       "      <td>male</td>\n",
       "      <td>Associate</td>\n",
       "      <td>56942.0</td>\n",
       "      <td>7</td>\n",
       "      <td>RENT</td>\n",
       "      <td>2771.0</td>\n",
       "      <td>DEBTCONSOLIDATION</td>\n",
       "      <td>10.02</td>\n",
       "      <td>0.05</td>\n",
       "      <td>10.0</td>\n",
       "      <td>668</td>\n",
       "      <td>No</td>\n",
       "    </tr>\n",
       "    <tr>\n",
       "      <th>44998</th>\n",
       "      <td>29.0</td>\n",
       "      <td>male</td>\n",
       "      <td>Bachelor</td>\n",
       "      <td>33164.0</td>\n",
       "      <td>4</td>\n",
       "      <td>RENT</td>\n",
       "      <td>12000.0</td>\n",
       "      <td>EDUCATION</td>\n",
       "      <td>13.23</td>\n",
       "      <td>0.36</td>\n",
       "      <td>6.0</td>\n",
       "      <td>604</td>\n",
       "      <td>No</td>\n",
       "    </tr>\n",
       "    <tr>\n",
       "      <th>44999</th>\n",
       "      <td>24.0</td>\n",
       "      <td>male</td>\n",
       "      <td>High School</td>\n",
       "      <td>51609.0</td>\n",
       "      <td>1</td>\n",
       "      <td>RENT</td>\n",
       "      <td>6665.0</td>\n",
       "      <td>DEBTCONSOLIDATION</td>\n",
       "      <td>17.05</td>\n",
       "      <td>0.13</td>\n",
       "      <td>3.0</td>\n",
       "      <td>628</td>\n",
       "      <td>No</td>\n",
       "    </tr>\n",
       "  </tbody>\n",
       "</table>\n",
       "<p>45000 rows × 13 columns</p>\n",
       "</div>"
      ],
      "text/plain": [
       "       person_age person_gender person_education  person_income  \\\n",
       "0            22.0        female           Master        71948.0   \n",
       "1            21.0        female      High School        12282.0   \n",
       "2            25.0        female      High School        12438.0   \n",
       "3            23.0        female         Bachelor        79753.0   \n",
       "4            24.0          male           Master        66135.0   \n",
       "...           ...           ...              ...            ...   \n",
       "44995        27.0          male        Associate        47971.0   \n",
       "44996        37.0        female        Associate        65800.0   \n",
       "44997        33.0          male        Associate        56942.0   \n",
       "44998        29.0          male         Bachelor        33164.0   \n",
       "44999        24.0          male      High School        51609.0   \n",
       "\n",
       "       person_emp_exp person_home_ownership  loan_amnt        loan_intent  \\\n",
       "0                   0                  RENT    35000.0           PERSONAL   \n",
       "1                   0                   OWN     1000.0          EDUCATION   \n",
       "2                   3              MORTGAGE     5500.0            MEDICAL   \n",
       "3                   0                  RENT    35000.0            MEDICAL   \n",
       "4                   1                  RENT    35000.0            MEDICAL   \n",
       "...               ...                   ...        ...                ...   \n",
       "44995               6                  RENT    15000.0            MEDICAL   \n",
       "44996              17                  RENT     9000.0    HOMEIMPROVEMENT   \n",
       "44997               7                  RENT     2771.0  DEBTCONSOLIDATION   \n",
       "44998               4                  RENT    12000.0          EDUCATION   \n",
       "44999               1                  RENT     6665.0  DEBTCONSOLIDATION   \n",
       "\n",
       "       loan_int_rate  loan_percent_income  cb_person_cred_hist_length  \\\n",
       "0              16.02                 0.49                         3.0   \n",
       "1              11.14                 0.08                         2.0   \n",
       "2              12.87                 0.44                         3.0   \n",
       "3              15.23                 0.44                         2.0   \n",
       "4              14.27                 0.53                         4.0   \n",
       "...              ...                  ...                         ...   \n",
       "44995          15.66                 0.31                         3.0   \n",
       "44996          14.07                 0.14                        11.0   \n",
       "44997          10.02                 0.05                        10.0   \n",
       "44998          13.23                 0.36                         6.0   \n",
       "44999          17.05                 0.13                         3.0   \n",
       "\n",
       "       credit_score previous_loan_defaults_on_file  \n",
       "0               561                             No  \n",
       "1               504                            Yes  \n",
       "2               635                             No  \n",
       "3               675                             No  \n",
       "4               586                             No  \n",
       "...             ...                            ...  \n",
       "44995           645                             No  \n",
       "44996           621                             No  \n",
       "44997           668                             No  \n",
       "44998           604                             No  \n",
       "44999           628                             No  \n",
       "\n",
       "[45000 rows x 13 columns]"
      ]
     },
     "execution_count": 77,
     "metadata": {},
     "output_type": "execute_result"
    }
   ],
   "source": [
    "X = df.drop(['loan_status'], axis = 1)\n",
    "y = df['loan_status']\n",
    "X"
   ]
  },
  {
   "cell_type": "code",
   "execution_count": 78,
   "metadata": {},
   "outputs": [
    {
     "data": {
      "text/plain": [
       "loan_status\n",
       "0    35000\n",
       "1    10000\n",
       "Name: count, dtype: int64"
      ]
     },
     "execution_count": 78,
     "metadata": {},
     "output_type": "execute_result"
    }
   ],
   "source": [
    "y.value_counts()"
   ]
  },
  {
   "cell_type": "code",
   "execution_count": 79,
   "metadata": {},
   "outputs": [
    {
     "data": {
      "text/plain": [
       "loan_status\n",
       "0    24500\n",
       "1     7000\n",
       "Name: count, dtype: int64"
      ]
     },
     "execution_count": 79,
     "metadata": {},
     "output_type": "execute_result"
    }
   ],
   "source": [
    "# Splitting Dataset\n",
    "\n",
    "X_train, X_test, y_train, y_test = train_test_split(X, y, test_size=0.3, stratify=y, random_state=10)\n",
    "y_train.value_counts()"
   ]
  },
  {
   "cell_type": "markdown",
   "metadata": {},
   "source": [
    "## Handling Outlier"
   ]
  },
  {
   "cell_type": "code",
   "execution_count": 80,
   "metadata": {},
   "outputs": [
    {
     "data": {
      "text/html": [
       "<div>\n",
       "<style scoped>\n",
       "    .dataframe tbody tr th:only-of-type {\n",
       "        vertical-align: middle;\n",
       "    }\n",
       "\n",
       "    .dataframe tbody tr th {\n",
       "        vertical-align: top;\n",
       "    }\n",
       "\n",
       "    .dataframe thead th {\n",
       "        text-align: right;\n",
       "    }\n",
       "</style>\n",
       "<table border=\"1\" class=\"dataframe\">\n",
       "  <thead>\n",
       "    <tr style=\"text-align: right;\">\n",
       "      <th></th>\n",
       "      <th>nama kolom</th>\n",
       "      <th>nilai skewness</th>\n",
       "      <th>distribution</th>\n",
       "    </tr>\n",
       "  </thead>\n",
       "  <tbody>\n",
       "    <tr>\n",
       "      <th>0</th>\n",
       "      <td>person_age</td>\n",
       "      <td>2.4</td>\n",
       "      <td>skewed</td>\n",
       "    </tr>\n",
       "    <tr>\n",
       "      <th>1</th>\n",
       "      <td>person_income</td>\n",
       "      <td>35.6</td>\n",
       "      <td>skewed</td>\n",
       "    </tr>\n",
       "    <tr>\n",
       "      <th>2</th>\n",
       "      <td>person_emp_exp</td>\n",
       "      <td>2.5</td>\n",
       "      <td>skewed</td>\n",
       "    </tr>\n",
       "    <tr>\n",
       "      <th>3</th>\n",
       "      <td>loan_amnt</td>\n",
       "      <td>1.2</td>\n",
       "      <td>skewed</td>\n",
       "    </tr>\n",
       "    <tr>\n",
       "      <th>4</th>\n",
       "      <td>loan_int_rate</td>\n",
       "      <td>0.2</td>\n",
       "      <td>normal</td>\n",
       "    </tr>\n",
       "    <tr>\n",
       "      <th>5</th>\n",
       "      <td>loan_percent_income</td>\n",
       "      <td>1.1</td>\n",
       "      <td>skewed</td>\n",
       "    </tr>\n",
       "    <tr>\n",
       "      <th>6</th>\n",
       "      <td>cb_person_cred_hist_length</td>\n",
       "      <td>1.6</td>\n",
       "      <td>skewed</td>\n",
       "    </tr>\n",
       "    <tr>\n",
       "      <th>7</th>\n",
       "      <td>credit_score</td>\n",
       "      <td>-0.6</td>\n",
       "      <td>skewed</td>\n",
       "    </tr>\n",
       "  </tbody>\n",
       "</table>\n",
       "</div>"
      ],
      "text/plain": [
       "                   nama kolom  nilai skewness distribution\n",
       "0                  person_age             2.4       skewed\n",
       "1               person_income            35.6       skewed\n",
       "2              person_emp_exp             2.5       skewed\n",
       "3                   loan_amnt             1.2       skewed\n",
       "4               loan_int_rate             0.2       normal\n",
       "5         loan_percent_income             1.1       skewed\n",
       "6  cb_person_cred_hist_length             1.6       skewed\n",
       "7                credit_score            -0.6       skewed"
      ]
     },
     "execution_count": 80,
     "metadata": {},
     "output_type": "execute_result"
    }
   ],
   "source": [
    "#check distribution form skewness\n",
    "num_cols = list(X_train.select_dtypes(exclude='object').columns)\n",
    "\n",
    "listItem= []\n",
    "\n",
    "for col in num_cols:\n",
    "  listItem.append([col, round(X_train[col].skew(),1), np.where(\n",
    "    (round(X_train[col].skew(),1) <= 0.5) & (round(X_train[col].skew(),1) >= -0.5),\n",
    "    'normal',\n",
    "    'skewed')])\n",
    "\n",
    "\n",
    "\n",
    "skewness = pd.DataFrame(columns=['nama kolom', 'nilai skewness', 'distribution'], data= listItem)\n",
    "skewness"
   ]
  },
  {
   "cell_type": "code",
   "execution_count": 81,
   "metadata": {},
   "outputs": [
    {
     "data": {
      "text/html": [
       "<div>\n",
       "<style scoped>\n",
       "    .dataframe tbody tr th:only-of-type {\n",
       "        vertical-align: middle;\n",
       "    }\n",
       "\n",
       "    .dataframe tbody tr th {\n",
       "        vertical-align: top;\n",
       "    }\n",
       "\n",
       "    .dataframe thead th {\n",
       "        text-align: right;\n",
       "    }\n",
       "</style>\n",
       "<table border=\"1\" class=\"dataframe\">\n",
       "  <thead>\n",
       "    <tr style=\"text-align: right;\">\n",
       "      <th></th>\n",
       "      <th>column</th>\n",
       "      <th>upper_boundary</th>\n",
       "      <th>lower_boundary</th>\n",
       "      <th>percentage_total_outlier</th>\n",
       "    </tr>\n",
       "  </thead>\n",
       "  <tbody>\n",
       "    <tr>\n",
       "      <th>0</th>\n",
       "      <td>person_age</td>\n",
       "      <td>48.00</td>\n",
       "      <td>6.00</td>\n",
       "      <td>1.03</td>\n",
       "    </tr>\n",
       "    <tr>\n",
       "      <th>1</th>\n",
       "      <td>person_income</td>\n",
       "      <td>240013.25</td>\n",
       "      <td>-97512.75</td>\n",
       "      <td>1.60</td>\n",
       "    </tr>\n",
       "    <tr>\n",
       "      <th>2</th>\n",
       "      <td>person_emp_exp</td>\n",
       "      <td>29.00</td>\n",
       "      <td>-20.00</td>\n",
       "      <td>0.61</td>\n",
       "    </tr>\n",
       "    <tr>\n",
       "      <th>3</th>\n",
       "      <td>loan_amnt</td>\n",
       "      <td>34108.00</td>\n",
       "      <td>-16831.00</td>\n",
       "      <td>0.54</td>\n",
       "    </tr>\n",
       "    <tr>\n",
       "      <th>4</th>\n",
       "      <td>loan_int_rate</td>\n",
       "      <td>19.92</td>\n",
       "      <td>2.06</td>\n",
       "      <td>0.16</td>\n",
       "    </tr>\n",
       "    <tr>\n",
       "      <th>5</th>\n",
       "      <td>loan_percent_income</td>\n",
       "      <td>0.55</td>\n",
       "      <td>-0.29</td>\n",
       "      <td>0.04</td>\n",
       "    </tr>\n",
       "    <tr>\n",
       "      <th>6</th>\n",
       "      <td>cb_person_cred_hist_length</td>\n",
       "      <td>23.00</td>\n",
       "      <td>-12.00</td>\n",
       "      <td>0.37</td>\n",
       "    </tr>\n",
       "    <tr>\n",
       "      <th>7</th>\n",
       "      <td>credit_score</td>\n",
       "      <td>874.00</td>\n",
       "      <td>398.00</td>\n",
       "      <td>0.00</td>\n",
       "    </tr>\n",
       "  </tbody>\n",
       "</table>\n",
       "</div>"
      ],
      "text/plain": [
       "                       column  upper_boundary  lower_boundary  \\\n",
       "0                  person_age           48.00            6.00   \n",
       "1               person_income       240013.25       -97512.75   \n",
       "2              person_emp_exp           29.00          -20.00   \n",
       "3                   loan_amnt        34108.00       -16831.00   \n",
       "4               loan_int_rate           19.92            2.06   \n",
       "5         loan_percent_income            0.55           -0.29   \n",
       "6  cb_person_cred_hist_length           23.00          -12.00   \n",
       "7                credit_score          874.00          398.00   \n",
       "\n",
       "   percentage_total_outlier  \n",
       "0                      1.03  \n",
       "1                      1.60  \n",
       "2                      0.61  \n",
       "3                      0.54  \n",
       "4                      0.16  \n",
       "5                      0.04  \n",
       "6                      0.37  \n",
       "7                      0.00  "
      ]
     },
     "execution_count": 81,
     "metadata": {},
     "output_type": "execute_result"
    }
   ],
   "source": [
    "# Get upper, lower boundaries and percentage of outliers\n",
    "\n",
    "column = []\n",
    "lower_bound = []\n",
    "upper_bound = []\n",
    "percent_total_outlier = []\n",
    "\n",
    "for row in range (0, len(skewness)):\n",
    "  col = skewness['nama kolom'][row]\n",
    "  #checking upper and lower boundary\n",
    "  if skewness['distribution'][row] == 'skewed':\n",
    "    IQR = X_train[col].quantile(0.75) - X_train[col].quantile(0.25)\n",
    "    lower_boundary = X_train[col].quantile(0.25) - (IQR * 3)\n",
    "    upper_boundary = X_train[col].quantile(0.75) + (IQR * 3)\n",
    "  else:\n",
    "    lower_boundary = X_train[col].mean() - 3* X_train[col].std()\n",
    "    upper_boundary = X_train[col].mean() + 3* X_train[col].std()\n",
    "  #append to list\n",
    "  column.append(col)\n",
    "  lower_bound.append(lower_boundary)\n",
    "  upper_bound.append(upper_boundary)\n",
    "  totout = ((len(X_train[X_train[col] > upper_boundary]) / len(X_train) * 100) + (len(X_train[X_train[col] < lower_boundary]) / len(X_train) * 100))\n",
    "  percent_total_outlier.append(totout)\n",
    "\n",
    "outliers = pd.DataFrame({\n",
    "    'column': column,\n",
    "    #round the value\n",
    "    'upper_boundary': [round(upper_bound,2) for upper_bound in upper_bound],\n",
    "    'lower_boundary': [round(lower_bound,2) for lower_bound in lower_bound],\n",
    "    'percentage_total_outlier': [round(percent_total_outlier,2) for percent_total_outlier in percent_total_outlier]\n",
    "})\n",
    "outliers"
   ]
  },
  {
   "cell_type": "code",
   "execution_count": 82,
   "metadata": {},
   "outputs": [
    {
     "data": {
      "text/html": [
       "<div>\n",
       "<style scoped>\n",
       "    .dataframe tbody tr th:only-of-type {\n",
       "        vertical-align: middle;\n",
       "    }\n",
       "\n",
       "    .dataframe tbody tr th {\n",
       "        vertical-align: top;\n",
       "    }\n",
       "\n",
       "    .dataframe thead th {\n",
       "        text-align: right;\n",
       "    }\n",
       "</style>\n",
       "<table border=\"1\" class=\"dataframe\">\n",
       "  <thead>\n",
       "    <tr style=\"text-align: right;\">\n",
       "      <th></th>\n",
       "      <th>count</th>\n",
       "      <th>mean</th>\n",
       "      <th>std</th>\n",
       "      <th>min</th>\n",
       "      <th>25%</th>\n",
       "      <th>50%</th>\n",
       "      <th>75%</th>\n",
       "      <th>max</th>\n",
       "    </tr>\n",
       "  </thead>\n",
       "  <tbody>\n",
       "    <tr>\n",
       "      <th>person_age</th>\n",
       "      <td>31500.0</td>\n",
       "      <td>27.75</td>\n",
       "      <td>6.03</td>\n",
       "      <td>20.00</td>\n",
       "      <td>24.00</td>\n",
       "      <td>26.00</td>\n",
       "      <td>30.00</td>\n",
       "      <td>144.00</td>\n",
       "    </tr>\n",
       "    <tr>\n",
       "      <th>person_income</th>\n",
       "      <td>31500.0</td>\n",
       "      <td>80259.78</td>\n",
       "      <td>81357.98</td>\n",
       "      <td>8000.00</td>\n",
       "      <td>47141.25</td>\n",
       "      <td>67048.50</td>\n",
       "      <td>95359.25</td>\n",
       "      <td>7200766.00</td>\n",
       "    </tr>\n",
       "    <tr>\n",
       "      <th>person_emp_exp</th>\n",
       "      <td>31500.0</td>\n",
       "      <td>5.40</td>\n",
       "      <td>6.05</td>\n",
       "      <td>0.00</td>\n",
       "      <td>1.00</td>\n",
       "      <td>4.00</td>\n",
       "      <td>8.00</td>\n",
       "      <td>125.00</td>\n",
       "    </tr>\n",
       "    <tr>\n",
       "      <th>loan_amnt</th>\n",
       "      <td>31500.0</td>\n",
       "      <td>9591.49</td>\n",
       "      <td>6325.07</td>\n",
       "      <td>500.00</td>\n",
       "      <td>5000.00</td>\n",
       "      <td>8000.00</td>\n",
       "      <td>12277.00</td>\n",
       "      <td>35000.00</td>\n",
       "    </tr>\n",
       "    <tr>\n",
       "      <th>loan_int_rate</th>\n",
       "      <td>31500.0</td>\n",
       "      <td>10.99</td>\n",
       "      <td>2.98</td>\n",
       "      <td>5.42</td>\n",
       "      <td>8.57</td>\n",
       "      <td>11.01</td>\n",
       "      <td>12.99</td>\n",
       "      <td>20.00</td>\n",
       "    </tr>\n",
       "    <tr>\n",
       "      <th>loan_percent_income</th>\n",
       "      <td>31500.0</td>\n",
       "      <td>0.14</td>\n",
       "      <td>0.09</td>\n",
       "      <td>0.00</td>\n",
       "      <td>0.07</td>\n",
       "      <td>0.12</td>\n",
       "      <td>0.19</td>\n",
       "      <td>0.66</td>\n",
       "    </tr>\n",
       "    <tr>\n",
       "      <th>cb_person_cred_hist_length</th>\n",
       "      <td>31500.0</td>\n",
       "      <td>5.87</td>\n",
       "      <td>3.89</td>\n",
       "      <td>2.00</td>\n",
       "      <td>3.00</td>\n",
       "      <td>4.00</td>\n",
       "      <td>8.00</td>\n",
       "      <td>30.00</td>\n",
       "    </tr>\n",
       "    <tr>\n",
       "      <th>credit_score</th>\n",
       "      <td>31500.0</td>\n",
       "      <td>632.74</td>\n",
       "      <td>50.29</td>\n",
       "      <td>390.00</td>\n",
       "      <td>602.00</td>\n",
       "      <td>640.00</td>\n",
       "      <td>670.00</td>\n",
       "      <td>850.00</td>\n",
       "    </tr>\n",
       "  </tbody>\n",
       "</table>\n",
       "</div>"
      ],
      "text/plain": [
       "                              count      mean       std      min       25%  \\\n",
       "person_age                  31500.0     27.75      6.03    20.00     24.00   \n",
       "person_income               31500.0  80259.78  81357.98  8000.00  47141.25   \n",
       "person_emp_exp              31500.0      5.40      6.05     0.00      1.00   \n",
       "loan_amnt                   31500.0   9591.49   6325.07   500.00   5000.00   \n",
       "loan_int_rate               31500.0     10.99      2.98     5.42      8.57   \n",
       "loan_percent_income         31500.0      0.14      0.09     0.00      0.07   \n",
       "cb_person_cred_hist_length  31500.0      5.87      3.89     2.00      3.00   \n",
       "credit_score                31500.0    632.74     50.29   390.00    602.00   \n",
       "\n",
       "                                 50%       75%         max  \n",
       "person_age                     26.00     30.00      144.00  \n",
       "person_income               67048.50  95359.25  7200766.00  \n",
       "person_emp_exp                  4.00      8.00      125.00  \n",
       "loan_amnt                    8000.00  12277.00    35000.00  \n",
       "loan_int_rate                  11.01     12.99       20.00  \n",
       "loan_percent_income             0.12      0.19        0.66  \n",
       "cb_person_cred_hist_length      4.00      8.00       30.00  \n",
       "credit_score                  640.00    670.00      850.00  "
      ]
     },
     "execution_count": 82,
     "metadata": {},
     "output_type": "execute_result"
    }
   ],
   "source": [
    "#compare with column stats\n",
    "X_train.describe().round(2).T"
   ]
  },
  {
   "cell_type": "markdown",
   "metadata": {},
   "source": [
    "jika dilihat dari persentase outlier dari feature, outlier yang tertinggi yaitu 1.60% sehingga disini saya tidak akan melakukan handling outlier"
   ]
  },
  {
   "cell_type": "markdown",
   "metadata": {},
   "source": [
    "## Missing Value"
   ]
  },
  {
   "cell_type": "code",
   "execution_count": 83,
   "metadata": {},
   "outputs": [
    {
     "data": {
      "text/plain": [
       "person_age                        0\n",
       "person_gender                     0\n",
       "person_education                  0\n",
       "person_income                     0\n",
       "person_emp_exp                    0\n",
       "person_home_ownership             0\n",
       "loan_amnt                         0\n",
       "loan_intent                       0\n",
       "loan_int_rate                     0\n",
       "loan_percent_income               0\n",
       "cb_person_cred_hist_length        0\n",
       "credit_score                      0\n",
       "previous_loan_defaults_on_file    0\n",
       "dtype: int64"
      ]
     },
     "execution_count": 83,
     "metadata": {},
     "output_type": "execute_result"
    }
   ],
   "source": [
    "X_train.isnull().sum()"
   ]
  },
  {
   "cell_type": "code",
   "execution_count": 84,
   "metadata": {},
   "outputs": [
    {
     "data": {
      "text/plain": [
       "person_age                        0\n",
       "person_gender                     0\n",
       "person_education                  0\n",
       "person_income                     0\n",
       "person_emp_exp                    0\n",
       "person_home_ownership             0\n",
       "loan_amnt                         0\n",
       "loan_intent                       0\n",
       "loan_int_rate                     0\n",
       "loan_percent_income               0\n",
       "cb_person_cred_hist_length        0\n",
       "credit_score                      0\n",
       "previous_loan_defaults_on_file    0\n",
       "dtype: int64"
      ]
     },
     "execution_count": 84,
     "metadata": {},
     "output_type": "execute_result"
    }
   ],
   "source": [
    "X_test.isnull().sum()"
   ]
  },
  {
   "cell_type": "markdown",
   "metadata": {},
   "source": [
    "tidak terdapat missing value pada data maka tidak perlu dilakukan handling terhadap missing value "
   ]
  },
  {
   "cell_type": "markdown",
   "metadata": {},
   "source": [
    "## Split Between Numeric Columns and Categorical Columns"
   ]
  },
  {
   "cell_type": "code",
   "execution_count": 85,
   "metadata": {},
   "outputs": [
    {
     "data": {
      "text/plain": [
       "Index(['person_age', 'person_gender', 'person_education', 'person_income',\n",
       "       'person_emp_exp', 'person_home_ownership', 'loan_amnt', 'loan_intent',\n",
       "       'loan_int_rate', 'loan_percent_income', 'cb_person_cred_hist_length',\n",
       "       'credit_score', 'previous_loan_defaults_on_file', 'loan_status'],\n",
       "      dtype='object')"
      ]
     },
     "execution_count": 85,
     "metadata": {},
     "output_type": "execute_result"
    }
   ],
   "source": [
    "df.columns"
   ]
  },
  {
   "cell_type": "code",
   "execution_count": 86,
   "metadata": {},
   "outputs": [],
   "source": [
    "num_col = ['person_age','person_income','person_emp_exp','loan_amnt','loan_int_rate','loan_percent_income','cb_person_cred_hist_length','credit_score']\n",
    "cat_ord = ['person_education']\n",
    "cat_num = ['person_gender','person_home_ownership','loan_intent','previous_loan_defaults_on_file']"
   ]
  },
  {
   "cell_type": "markdown",
   "metadata": {},
   "source": [
    "## Feature Selection"
   ]
  },
  {
   "cell_type": "code",
   "execution_count": null,
   "metadata": {},
   "outputs": [
    {
     "name": "stdout",
     "output_type": "stream",
     "text": [
      "                       nama kolom       p-value            hasil\n",
      "0                   person_gender  6.349557e-01  ga ada korelasi\n",
      "1           person_home_ownership  0.000000e+00     ada korelasi\n",
      "2                     loan_intent  8.852158e-46     ada korelasi\n",
      "3  previous_loan_defaults_on_file  0.000000e+00     ada korelasi\n"
     ]
    }
   ],
   "source": [
    "\n",
    "\n",
    "# Inisialisasi list untuk hasil\n",
    "p_values = []\n",
    "interpretasi = []\n",
    "cols = cat_num   # Daftar nama kolom kategorikal\n",
    "\n",
    "# Loop untuk menghitung p-value chi2 untuk setiap kolom kategorikal\n",
    "for col in cols:\n",
    "    # Encoding kategorikal ke numerik\n",
    "    le = LabelEncoder()\n",
    "    X_encoded = le.fit_transform(X_train[col])  # Mengubah menjadi array numerik\n",
    "\n",
    "    # Menghitung chi2\n",
    "    chi2_stat, p_value = chi2(X_encoded.reshape(-1, 1), y_train)  # Melakukan uji chi2\n",
    "\n",
    "    # Menyimpan hasil\n",
    "    p_values.append(p_value[0])  # Chi2 mengembalikan array, kita ambil nilai pertama\n",
    "    if p_value[0] < 0.05:  # Bandingkan nilai pertama p-value\n",
    "        interpretasi.append('ada korelasi')\n",
    "    else:\n",
    "        interpretasi.append('ga ada korelasi')\n",
    "\n",
    "# Menampilkan hasil seleksi fitur\n",
    "hasil = pd.DataFrame({'nama kolom': cols, 'p-value': p_values, 'hasil': interpretasi})\n",
    "print(hasil)\n"
   ]
  },
  {
   "cell_type": "markdown",
   "metadata": {},
   "source": [
    "melihat korelasi category dengan target, semua featurenya memiliki korelasi kecuali gender seseorang. korelasi yang paling kuat adalah kepemilikan rumah dan histori apakah seseorang pernah gagal bayar peminjaman."
   ]
  },
  {
   "cell_type": "code",
   "execution_count": 88,
   "metadata": {},
   "outputs": [
    {
     "name": "stdout",
     "output_type": "stream",
     "text": [
      "         nama kolom   p-value            hasil\n",
      "0  person_education  0.484013  ga ada korelasi\n"
     ]
    }
   ],
   "source": [
    "ordinal_mapping = {\n",
    "    'person_education': ['High School', 'Associate', 'Bachelor','Master','Doctorate'],\n",
    "}\n",
    "\n",
    "# Encoding ordinal\n",
    "encoder = OrdinalEncoder(categories=[ordinal_mapping[col] for col in X_train[cat_ord]])\n",
    "X_encoded = encoder.fit_transform(X_train[cat_ord])\n",
    "\n",
    "# Menghitung chi-squared\n",
    "chi2_stat, p_values = chi2(X_encoded, y_train)\n",
    "\n",
    "# Interpretasi hasil\n",
    "cols = cat_ord\n",
    "interpretasi = ['ada korelasi' if p < 0.05 else 'ga ada korelasi' for p in p_values]\n",
    "\n",
    "# Output DataFrame\n",
    "hasil = pd.DataFrame({\n",
    "    'nama kolom': cols,\n",
    "    'p-value': p_values,\n",
    "    'hasil': interpretasi\n",
    "})\n",
    "print(hasil)"
   ]
  },
  {
   "cell_type": "markdown",
   "metadata": {},
   "source": [
    "untuk korelasi edukasi seseorang dengan target, tidak terdapat adanya korelasi sehingga feature ini tidak akan digunakan dalam model."
   ]
  },
  {
   "cell_type": "code",
   "execution_count": 142,
   "metadata": {},
   "outputs": [
    {
     "data": {
      "text/html": [
       "<div>\n",
       "<style scoped>\n",
       "    .dataframe tbody tr th:only-of-type {\n",
       "        vertical-align: middle;\n",
       "    }\n",
       "\n",
       "    .dataframe tbody tr th {\n",
       "        vertical-align: top;\n",
       "    }\n",
       "\n",
       "    .dataframe thead th {\n",
       "        text-align: right;\n",
       "    }\n",
       "</style>\n",
       "<table border=\"1\" class=\"dataframe\">\n",
       "  <thead>\n",
       "    <tr style=\"text-align: right;\">\n",
       "      <th></th>\n",
       "      <th>nama kolom</th>\n",
       "      <th>hasil</th>\n",
       "      <th>P_value</th>\n",
       "    </tr>\n",
       "  </thead>\n",
       "  <tbody>\n",
       "    <tr>\n",
       "      <th>0</th>\n",
       "      <td>person_age</td>\n",
       "      <td>ada korelasi</td>\n",
       "      <td>9.811987e-07</td>\n",
       "    </tr>\n",
       "    <tr>\n",
       "      <th>1</th>\n",
       "      <td>person_income</td>\n",
       "      <td>ada korelasi</td>\n",
       "      <td>0.000000e+00</td>\n",
       "    </tr>\n",
       "    <tr>\n",
       "      <th>2</th>\n",
       "      <td>person_emp_exp</td>\n",
       "      <td>ada korelasi</td>\n",
       "      <td>3.811385e-06</td>\n",
       "    </tr>\n",
       "    <tr>\n",
       "      <th>3</th>\n",
       "      <td>loan_amnt</td>\n",
       "      <td>ada korelasi</td>\n",
       "      <td>8.115162e-50</td>\n",
       "    </tr>\n",
       "    <tr>\n",
       "      <th>4</th>\n",
       "      <td>loan_int_rate</td>\n",
       "      <td>ada korelasi</td>\n",
       "      <td>0.000000e+00</td>\n",
       "    </tr>\n",
       "    <tr>\n",
       "      <th>5</th>\n",
       "      <td>loan_percent_income</td>\n",
       "      <td>ada korelasi</td>\n",
       "      <td>0.000000e+00</td>\n",
       "    </tr>\n",
       "    <tr>\n",
       "      <th>6</th>\n",
       "      <td>cb_person_cred_hist_length</td>\n",
       "      <td>ada korelasi</td>\n",
       "      <td>3.598111e-03</td>\n",
       "    </tr>\n",
       "    <tr>\n",
       "      <th>7</th>\n",
       "      <td>credit_score</td>\n",
       "      <td>ada korelasi</td>\n",
       "      <td>4.362273e-02</td>\n",
       "    </tr>\n",
       "  </tbody>\n",
       "</table>\n",
       "</div>"
      ],
      "text/plain": [
       "                   nama kolom         hasil       P_value\n",
       "0                  person_age  ada korelasi  9.811987e-07\n",
       "1               person_income  ada korelasi  0.000000e+00\n",
       "2              person_emp_exp  ada korelasi  3.811385e-06\n",
       "3                   loan_amnt  ada korelasi  8.115162e-50\n",
       "4               loan_int_rate  ada korelasi  0.000000e+00\n",
       "5         loan_percent_income  ada korelasi  0.000000e+00\n",
       "6  cb_person_cred_hist_length  ada korelasi  3.598111e-03\n",
       "7                credit_score  ada korelasi  4.362273e-02"
      ]
     },
     "execution_count": 142,
     "metadata": {},
     "output_type": "execute_result"
    }
   ],
   "source": [
    "# Feature selection Numerical columns\n",
    "p_values = []\n",
    "interpretasi = []\n",
    "cols = []\n",
    "\n",
    "for col in num_col:\n",
    "  corr_coef, p_value = kendalltau(X_train[col], y_train)\n",
    "\n",
    "  p_values.append(p_value)\n",
    "  cols.append(col)\n",
    "\n",
    "  if p_value < 0.05:\n",
    "    interpretasi.append('ada korelasi')\n",
    "  else :\n",
    "    interpretasi.append('ga ada korelasi')\n",
    "\n",
    "pd.DataFrame({'nama kolom':cols,\n",
    "              'hasil': interpretasi,\n",
    "              'P_value': p_values})"
   ]
  },
  {
   "cell_type": "markdown",
   "metadata": {},
   "source": [
    "untuk feature numerical, semua feature memiliki korelasi terhadap target sehingga semua feature numerical akan digunakan dalam model. "
   ]
  },
  {
   "cell_type": "markdown",
   "metadata": {},
   "source": [
    "# 6. Model Definition"
   ]
  },
  {
   "cell_type": "markdown",
   "metadata": {},
   "source": [
    "## Pipeline"
   ]
  },
  {
   "cell_type": "markdown",
   "metadata": {},
   "source": [
    "### Column Transformer"
   ]
  },
  {
   "cell_type": "code",
   "execution_count": 90,
   "metadata": {},
   "outputs": [
    {
     "data": {
      "text/plain": [
       "person_education\n",
       "Bachelor       13399\n",
       "Associate      12028\n",
       "High School    11972\n",
       "Master          6980\n",
       "Doctorate        621\n",
       "Name: count, dtype: int64"
      ]
     },
     "execution_count": 90,
     "metadata": {},
     "output_type": "execute_result"
    }
   ],
   "source": [
    "df['person_education'].value_counts()"
   ]
  },
  {
   "cell_type": "code",
   "execution_count": 91,
   "metadata": {},
   "outputs": [],
   "source": [
    "num_col = ['person_age','person_income','person_emp_exp','loan_amnt','loan_int_rate','loan_percent_income','cb_person_cred_hist_length','credit_score']\n",
    "cat_num = ['person_home_ownership','loan_intent','previous_loan_defaults_on_file']"
   ]
  },
  {
   "cell_type": "code",
   "execution_count": 92,
   "metadata": {},
   "outputs": [],
   "source": [
    "#Making column transformer for preprocessing\n",
    "transformer = ColumnTransformer([\n",
    "('scaler', MinMaxScaler(), num_col),\n",
    "('encoding', OneHotEncoder(handle_unknown='ignore'), cat_num)\n",
    "])"
   ]
  },
  {
   "cell_type": "markdown",
   "metadata": {},
   "source": [
    "### Modeling"
   ]
  },
  {
   "cell_type": "code",
   "execution_count": 93,
   "metadata": {},
   "outputs": [],
   "source": [
    "#Making pipeline for LogReg\n",
    "\n",
    "pipe_knn = Pipeline([\n",
    "('transformer', transformer),\n",
    "('classifier', KNeighborsClassifier())\n",
    "])\n",
    "\n",
    "\n",
    "pipe_svc = Pipeline([\n",
    "('transformer', transformer),\n",
    "('classifier', SVC())\n",
    "])\n",
    "\n",
    "\n",
    "pipe_tree = Pipeline([\n",
    "('transformer', transformer),\n",
    "('classifier', DecisionTreeClassifier())\n",
    "])\n",
    "\n",
    "pipe_rf = Pipeline([\n",
    "('transformer', transformer),\n",
    "('classifier', RandomForestClassifier())\n",
    "])\n",
    "\n",
    "\n",
    "pipe_xgb = Pipeline([\n",
    "('transformer', transformer),\n",
    "('classifier', XGBClassifier())\n",
    "])"
   ]
  },
  {
   "cell_type": "markdown",
   "metadata": {},
   "source": [
    "# 7. Model Training"
   ]
  },
  {
   "cell_type": "markdown",
   "metadata": {},
   "source": [
    "dilakukan training untuk setiap model yang telah dibuat dengan pipeline"
   ]
  },
  {
   "cell_type": "markdown",
   "metadata": {},
   "source": [
    "## KNN "
   ]
  },
  {
   "cell_type": "code",
   "execution_count": 94,
   "metadata": {},
   "outputs": [
    {
     "name": "stdout",
     "output_type": "stream",
     "text": [
      "Training Score:  0.9313\n",
      "Testing Score:  0.9038\n"
     ]
    }
   ],
   "source": [
    "pipe_knn.fit(X_train, y_train)\n",
    "print('Training Score: ',round(pipe_knn.score(X_train, y_train),4))\n",
    "print('Testing Score: ', round(pipe_knn.score(X_test, y_test),4))"
   ]
  },
  {
   "cell_type": "markdown",
   "metadata": {},
   "source": [
    "## SVC"
   ]
  },
  {
   "cell_type": "code",
   "execution_count": 95,
   "metadata": {},
   "outputs": [
    {
     "name": "stdout",
     "output_type": "stream",
     "text": [
      "Training Score:  0.9122\n",
      "Testing Score:  0.9126\n"
     ]
    }
   ],
   "source": [
    "pipe_svc.fit(X_train, y_train)\n",
    "print('Training Score: ',round(pipe_svc.score(X_train, y_train),4))\n",
    "print('Testing Score: ', round(pipe_svc.score(X_test, y_test),4))"
   ]
  },
  {
   "cell_type": "markdown",
   "metadata": {},
   "source": [
    "## Decision Tree"
   ]
  },
  {
   "cell_type": "code",
   "execution_count": 96,
   "metadata": {},
   "outputs": [
    {
     "name": "stdout",
     "output_type": "stream",
     "text": [
      "Training Score:  1.0\n",
      "Testing Score:  0.9034\n"
     ]
    }
   ],
   "source": [
    "pipe_tree.fit(X_train, y_train)\n",
    "print('Training Score: ',round(pipe_tree.score(X_train, y_train),4))\n",
    "print('Testing Score: ', round(pipe_tree.score(X_test, y_test),4))"
   ]
  },
  {
   "cell_type": "markdown",
   "metadata": {},
   "source": [
    "## Random Forest"
   ]
  },
  {
   "cell_type": "code",
   "execution_count": 97,
   "metadata": {},
   "outputs": [
    {
     "name": "stdout",
     "output_type": "stream",
     "text": [
      "Training Score:  1.0\n",
      "Testing Score:  0.9303\n"
     ]
    }
   ],
   "source": [
    "pipe_rf.fit(X_train, y_train)\n",
    "print('Training Score: ',round(pipe_rf.score(X_train, y_train),4))\n",
    "print('Testing Score: ', round(pipe_rf.score(X_test, y_test),4))"
   ]
  },
  {
   "cell_type": "markdown",
   "metadata": {},
   "source": [
    "## XGBoost"
   ]
  },
  {
   "cell_type": "code",
   "execution_count": 98,
   "metadata": {},
   "outputs": [
    {
     "name": "stdout",
     "output_type": "stream",
     "text": [
      "Training Score:  0.9697\n",
      "Testing Score:  0.9384\n"
     ]
    }
   ],
   "source": [
    "pipe_xgb.fit(X_train, y_train)\n",
    "print('Training Score: ',round(pipe_xgb.score(X_train, y_train),4))\n",
    "print('Testing Score: ', round(pipe_xgb.score(X_test, y_test),4))"
   ]
  },
  {
   "cell_type": "markdown",
   "metadata": {},
   "source": [
    "# 8. Model Evaluation"
   ]
  },
  {
   "cell_type": "markdown",
   "metadata": {},
   "source": [
    "## Base Model Evaluation"
   ]
  },
  {
   "cell_type": "markdown",
   "metadata": {},
   "source": [
    "dilakukan evaluasi terhadap model dengan menggunakan metric F1-score, dikarenakan saya ingin mengurangi agar model tidak memprediksi orang mendapatkan pinjaman tetapi seharusnya tidak dapat dan memprediksi orang tidak mendapatkan pinjaman tetapi seharusnya mendapat pinjaman. "
   ]
  },
  {
   "cell_type": "markdown",
   "metadata": {},
   "source": [
    "### KNN"
   ]
  },
  {
   "cell_type": "code",
   "execution_count": 99,
   "metadata": {},
   "outputs": [
    {
     "name": "stdout",
     "output_type": "stream",
     "text": [
      "Train\n",
      "              precision    recall  f1-score   support\n",
      "\n",
      "           0       0.95      0.97      0.96     24500\n",
      "           1       0.88      0.80      0.84      7000\n",
      "\n",
      "    accuracy                           0.93     31500\n",
      "   macro avg       0.91      0.89      0.90     31500\n",
      "weighted avg       0.93      0.93      0.93     31500\n",
      "\n",
      "\n",
      "Test\n",
      "              precision    recall  f1-score   support\n",
      "\n",
      "           0       0.93      0.95      0.94     10500\n",
      "           1       0.81      0.74      0.77      3000\n",
      "\n",
      "    accuracy                           0.90     13500\n",
      "   macro avg       0.87      0.85      0.86     13500\n",
      "weighted avg       0.90      0.90      0.90     13500\n",
      "\n"
     ]
    }
   ],
   "source": [
    "# Check performance model\n",
    "\n",
    "y_pred_train = pipe_knn.predict(X_train)\n",
    "y_pred_test = pipe_knn.predict(X_test)\n",
    "\n",
    "print('Train')\n",
    "print(classification_report(y_train, y_pred_train))\n",
    "print('')\n",
    "\n",
    "print('Test')\n",
    "print(classification_report(y_test, y_pred_test))"
   ]
  },
  {
   "cell_type": "markdown",
   "metadata": {},
   "source": [
    "model KNN overfit dikarenakan nilai train yang tinggi sedangkan nilai test nya rendah"
   ]
  },
  {
   "cell_type": "code",
   "execution_count": 100,
   "metadata": {},
   "outputs": [
    {
     "name": "stdout",
     "output_type": "stream",
     "text": [
      "F1 Score - All - Cross Validation  :  [0.76653812 0.76193372 0.76941386 0.76041979]\n",
      "F1 Score - Mean - Cross Validation :  0.7645763731835017\n",
      "F1 Score - Std - Cross Validation  :  0.0035885436060976886\n",
      "F1 Score - Range of Test-Set       :  0.760987829577404 - 0.7681649167895994\n"
     ]
    }
   ],
   "source": [
    "#Cross Validation\n",
    "\n",
    "f1_train_cross_val = cross_val_score(pipe_knn,\n",
    "                                     X_train,\n",
    "                                     y_train,\n",
    "                                     cv=4,\n",
    "                                     scoring=\"f1\")\n",
    "\n",
    "print('F1 Score - All - Cross Validation  : ', f1_train_cross_val)\n",
    "print('F1 Score - Mean - Cross Validation : ', f1_train_cross_val.mean())\n",
    "print('F1 Score - Std - Cross Validation  : ', f1_train_cross_val.std())\n",
    "print('F1 Score - Range of Test-Set       : ', (f1_train_cross_val.mean()-f1_train_cross_val.std()) , '-', (f1_train_cross_val.mean()+f1_train_cross_val.std()))"
   ]
  },
  {
   "cell_type": "markdown",
   "metadata": {},
   "source": [
    "### SVC"
   ]
  },
  {
   "cell_type": "code",
   "execution_count": 101,
   "metadata": {},
   "outputs": [
    {
     "name": "stdout",
     "output_type": "stream",
     "text": [
      "Train\n",
      "              precision    recall  f1-score   support\n",
      "\n",
      "           0       0.93      0.96      0.94     24500\n",
      "           1       0.85      0.74      0.79      7000\n",
      "\n",
      "    accuracy                           0.91     31500\n",
      "   macro avg       0.89      0.85      0.87     31500\n",
      "weighted avg       0.91      0.91      0.91     31500\n",
      "\n",
      "\n",
      "Test\n",
      "              precision    recall  f1-score   support\n",
      "\n",
      "           0       0.93      0.96      0.94     10500\n",
      "           1       0.84      0.75      0.79      3000\n",
      "\n",
      "    accuracy                           0.91     13500\n",
      "   macro avg       0.89      0.85      0.87     13500\n",
      "weighted avg       0.91      0.91      0.91     13500\n",
      "\n"
     ]
    }
   ],
   "source": [
    "# Check performance model\n",
    "\n",
    "y_pred_train = pipe_svc.predict(X_train)\n",
    "y_pred_test = pipe_svc.predict(X_test)\n",
    "\n",
    "print('Train')\n",
    "print(classification_report(y_train, y_pred_train))\n",
    "print('')\n",
    "\n",
    "print('Test')\n",
    "print(classification_report(y_test, y_pred_test))"
   ]
  },
  {
   "cell_type": "markdown",
   "metadata": {},
   "source": [
    "model SVC good fit dikarenakan nilai train dan testnya mirip"
   ]
  },
  {
   "cell_type": "code",
   "execution_count": 102,
   "metadata": {},
   "outputs": [
    {
     "name": "stdout",
     "output_type": "stream",
     "text": [
      "F1 Score - All - Cross Validation  :  [0.78993108 0.7716145  0.79257908 0.78139252]\n",
      "F1 Score - Mean - Cross Validation :  0.7838792935998433\n",
      "F1 Score - Std - Cross Validation  :  0.008199381220392517\n",
      "F1 Score - Range of Test-Set       :  0.7756799123794508 - 0.7920786748202359\n"
     ]
    }
   ],
   "source": [
    "#Cross Validation\n",
    "\n",
    "f1_train_cross_val = cross_val_score(pipe_svc,\n",
    "                                     X_train,\n",
    "                                     y_train,\n",
    "                                     cv=4,\n",
    "                                     scoring=\"f1\")\n",
    "\n",
    "print('F1 Score - All - Cross Validation  : ', f1_train_cross_val)\n",
    "print('F1 Score - Mean - Cross Validation : ', f1_train_cross_val.mean())\n",
    "print('F1 Score - Std - Cross Validation  : ', f1_train_cross_val.std())\n",
    "print('F1 Score - Range of Test-Set       : ', (f1_train_cross_val.mean()-f1_train_cross_val.std()) , '-', (f1_train_cross_val.mean()+f1_train_cross_val.std()))"
   ]
  },
  {
   "cell_type": "markdown",
   "metadata": {},
   "source": [
    "### Decision Tree"
   ]
  },
  {
   "cell_type": "code",
   "execution_count": 103,
   "metadata": {},
   "outputs": [
    {
     "name": "stdout",
     "output_type": "stream",
     "text": [
      "Train\n",
      "              precision    recall  f1-score   support\n",
      "\n",
      "           0       1.00      1.00      1.00     24500\n",
      "           1       1.00      1.00      1.00      7000\n",
      "\n",
      "    accuracy                           1.00     31500\n",
      "   macro avg       1.00      1.00      1.00     31500\n",
      "weighted avg       1.00      1.00      1.00     31500\n",
      "\n",
      "\n",
      "Test\n",
      "              precision    recall  f1-score   support\n",
      "\n",
      "           0       0.94      0.94      0.94     10500\n",
      "           1       0.78      0.79      0.78      3000\n",
      "\n",
      "    accuracy                           0.90     13500\n",
      "   macro avg       0.86      0.86      0.86     13500\n",
      "weighted avg       0.90      0.90      0.90     13500\n",
      "\n"
     ]
    }
   ],
   "source": [
    "# Check performance model\n",
    "\n",
    "y_pred_train = pipe_tree.predict(X_train)\n",
    "y_pred_test = pipe_tree.predict(X_test)\n",
    "\n",
    "print('Train')\n",
    "print(classification_report(y_train, y_pred_train))\n",
    "print('')\n",
    "\n",
    "print('Test')\n",
    "print(classification_report(y_test, y_pred_test))"
   ]
  },
  {
   "cell_type": "markdown",
   "metadata": {},
   "source": [
    "model decision tree overfit dikarenakan nilai train sangat tinggi sedangkan gap dengan nilai test nya jauh."
   ]
  },
  {
   "cell_type": "code",
   "execution_count": 104,
   "metadata": {},
   "outputs": [
    {
     "name": "stdout",
     "output_type": "stream",
     "text": [
      "F1 Score - All - Cross Validation  :  [0.77207738 0.77091748 0.76836476 0.77922078]\n",
      "F1 Score - Mean - Cross Validation :  0.7726451003678321\n",
      "F1 Score - Std - Cross Validation  :  0.004027027946253068\n",
      "F1 Score - Range of Test-Set       :  0.768618072421579 - 0.7766721283140852\n"
     ]
    }
   ],
   "source": [
    "#Cross Validation\n",
    "\n",
    "f1_train_cross_val = cross_val_score(pipe_tree,\n",
    "                                     X_train,\n",
    "                                     y_train,\n",
    "                                     cv=4,\n",
    "                                     scoring=\"f1\")\n",
    "\n",
    "print('F1 Score - All - Cross Validation  : ', f1_train_cross_val)\n",
    "print('F1 Score - Mean - Cross Validation : ', f1_train_cross_val.mean())\n",
    "print('F1 Score - Std - Cross Validation  : ', f1_train_cross_val.std())\n",
    "print('F1 Score - Range of Test-Set       : ', (f1_train_cross_val.mean()-f1_train_cross_val.std()) , '-', (f1_train_cross_val.mean()+f1_train_cross_val.std()))"
   ]
  },
  {
   "cell_type": "markdown",
   "metadata": {},
   "source": [
    "### Random Forest"
   ]
  },
  {
   "cell_type": "code",
   "execution_count": 105,
   "metadata": {},
   "outputs": [
    {
     "name": "stdout",
     "output_type": "stream",
     "text": [
      "Train\n",
      "              precision    recall  f1-score   support\n",
      "\n",
      "           0       1.00      1.00      1.00     24500\n",
      "           1       1.00      1.00      1.00      7000\n",
      "\n",
      "    accuracy                           1.00     31500\n",
      "   macro avg       1.00      1.00      1.00     31500\n",
      "weighted avg       1.00      1.00      1.00     31500\n",
      "\n",
      "\n",
      "Test\n",
      "              precision    recall  f1-score   support\n",
      "\n",
      "           0       0.94      0.97      0.96     10500\n",
      "           1       0.89      0.78      0.83      3000\n",
      "\n",
      "    accuracy                           0.93     13500\n",
      "   macro avg       0.92      0.88      0.89     13500\n",
      "weighted avg       0.93      0.93      0.93     13500\n",
      "\n"
     ]
    }
   ],
   "source": [
    "# Check performance model\n",
    "\n",
    "y_pred_train = pipe_rf.predict(X_train)\n",
    "y_pred_test = pipe_rf.predict(X_test)\n",
    "\n",
    "print('Train')\n",
    "print(classification_report(y_train, y_pred_train))\n",
    "print('')\n",
    "\n",
    "print('Test')\n",
    "print(classification_report(y_test, y_pred_test))"
   ]
  },
  {
   "cell_type": "markdown",
   "metadata": {},
   "source": [
    "model random forest overfit, hasil dari train tinggi sedangkan testnya rendah"
   ]
  },
  {
   "cell_type": "code",
   "execution_count": 106,
   "metadata": {},
   "outputs": [
    {
     "name": "stdout",
     "output_type": "stream",
     "text": [
      "F1 Score - All - Cross Validation  :  [0.81914571 0.82722188 0.82977425 0.82173382]\n",
      "F1 Score - Mean - Cross Validation :  0.8244689161723104\n",
      "F1 Score - Std - Cross Validation  :  0.004229143431757361\n",
      "F1 Score - Range of Test-Set       :  0.820239772740553 - 0.8286980596040678\n"
     ]
    }
   ],
   "source": [
    "#Cross Validation\n",
    "\n",
    "f1_train_cross_val = cross_val_score(pipe_rf,\n",
    "                                     X_train,\n",
    "                                     y_train,\n",
    "                                     cv=4,\n",
    "                                     scoring=\"f1\")\n",
    "\n",
    "print('F1 Score - All - Cross Validation  : ', f1_train_cross_val)\n",
    "print('F1 Score - Mean - Cross Validation : ', f1_train_cross_val.mean())\n",
    "print('F1 Score - Std - Cross Validation  : ', f1_train_cross_val.std())\n",
    "print('F1 Score - Range of Test-Set       : ', (f1_train_cross_val.mean()-f1_train_cross_val.std()) , '-', (f1_train_cross_val.mean()+f1_train_cross_val.std()))"
   ]
  },
  {
   "cell_type": "markdown",
   "metadata": {},
   "source": [
    "### XGBoost"
   ]
  },
  {
   "cell_type": "code",
   "execution_count": 107,
   "metadata": {},
   "outputs": [
    {
     "name": "stdout",
     "output_type": "stream",
     "text": [
      "Train\n",
      "              precision    recall  f1-score   support\n",
      "\n",
      "           0       0.97      0.99      0.98     24500\n",
      "           1       0.96      0.90      0.93      7000\n",
      "\n",
      "    accuracy                           0.97     31500\n",
      "   macro avg       0.97      0.94      0.95     31500\n",
      "weighted avg       0.97      0.97      0.97     31500\n",
      "\n",
      "\n",
      "Test\n",
      "              precision    recall  f1-score   support\n",
      "\n",
      "           0       0.95      0.97      0.96     10500\n",
      "           1       0.90      0.82      0.86      3000\n",
      "\n",
      "    accuracy                           0.94     13500\n",
      "   macro avg       0.92      0.90      0.91     13500\n",
      "weighted avg       0.94      0.94      0.94     13500\n",
      "\n"
     ]
    }
   ],
   "source": [
    "# Check performance model\n",
    "\n",
    "y_pred_train = pipe_xgb.predict(X_train)\n",
    "y_pred_test = pipe_xgb.predict(X_test)\n",
    "\n",
    "print('Train')\n",
    "print(classification_report(y_train, y_pred_train))\n",
    "print('')\n",
    "\n",
    "print('Test')\n",
    "print(classification_report(y_test, y_pred_test))"
   ]
  },
  {
   "cell_type": "markdown",
   "metadata": {},
   "source": [
    "model xgboost overfit ringan, tetapi model termasuk yang terbaik dari semua model"
   ]
  },
  {
   "cell_type": "code",
   "execution_count": 108,
   "metadata": {},
   "outputs": [],
   "source": [
    "\n",
    "\n",
    "models = {\n",
    "    'KNN' : pipe_knn,\n",
    "    'SVC' : pipe_svc,\n",
    "    'Decision Tree' : pipe_tree,\n",
    "    'Random Forest' : pipe_rf,\n",
    "    'XGBoost' : pipe_xgb\n",
    "}\n",
    "\n",
    "metrics = {\n",
    "    'Accuracy' : accuracy_score,\n",
    "    'F1-Score' : f1_score,\n",
    "}\n",
    "\n",
    "df_model = pd.DataFrame(columns = models.keys(), index=['Accuracy', 'F1-Score'])\n",
    "\n",
    "for metric in metrics.keys():\n",
    "  for model in models.keys():\n",
    "    df_model.loc[metric, model] = metrics[metric](y_test, models[model].predict(X_test))"
   ]
  },
  {
   "cell_type": "code",
   "execution_count": 109,
   "metadata": {},
   "outputs": [
    {
     "data": {
      "text/html": [
       "<div>\n",
       "<style scoped>\n",
       "    .dataframe tbody tr th:only-of-type {\n",
       "        vertical-align: middle;\n",
       "    }\n",
       "\n",
       "    .dataframe tbody tr th {\n",
       "        vertical-align: top;\n",
       "    }\n",
       "\n",
       "    .dataframe thead th {\n",
       "        text-align: right;\n",
       "    }\n",
       "</style>\n",
       "<table border=\"1\" class=\"dataframe\">\n",
       "  <thead>\n",
       "    <tr style=\"text-align: right;\">\n",
       "      <th></th>\n",
       "      <th>KNN</th>\n",
       "      <th>SVC</th>\n",
       "      <th>Decision Tree</th>\n",
       "      <th>Random Forest</th>\n",
       "      <th>XGBoost</th>\n",
       "    </tr>\n",
       "  </thead>\n",
       "  <tbody>\n",
       "    <tr>\n",
       "      <th>Accuracy</th>\n",
       "      <td>0.903778</td>\n",
       "      <td>0.912593</td>\n",
       "      <td>0.903407</td>\n",
       "      <td>0.930296</td>\n",
       "      <td>0.938444</td>\n",
       "    </tr>\n",
       "    <tr>\n",
       "      <th>F1-Score</th>\n",
       "      <td>0.773575</td>\n",
       "      <td>0.792034</td>\n",
       "      <td>0.78432</td>\n",
       "      <td>0.832353</td>\n",
       "      <td>0.855302</td>\n",
       "    </tr>\n",
       "  </tbody>\n",
       "</table>\n",
       "</div>"
      ],
      "text/plain": [
       "               KNN       SVC Decision Tree Random Forest   XGBoost\n",
       "Accuracy  0.903778  0.912593      0.903407      0.930296  0.938444\n",
       "F1-Score  0.773575  0.792034       0.78432      0.832353  0.855302"
      ]
     },
     "execution_count": 109,
     "metadata": {},
     "output_type": "execute_result"
    }
   ],
   "source": [
    "df_model"
   ]
  },
  {
   "cell_type": "markdown",
   "metadata": {},
   "source": [
    "dari semua model, XGBoost memiliki nilai F1-Score yang paling tinggi"
   ]
  },
  {
   "cell_type": "code",
   "execution_count": 110,
   "metadata": {},
   "outputs": [],
   "source": [
    "models = {\n",
    "    'KNN' : pipe_knn,\n",
    "    'SVC' : pipe_svc,\n",
    "    'Decision Tree' : pipe_tree,\n",
    "    'Random Forest' : pipe_rf,\n",
    "    'XGBoost' : pipe_xgb\n",
    "}\n",
    "\n",
    "metrics = {\n",
    "    'Mean': [],\n",
    "    'Std': []\n",
    "}\n",
    "\n",
    "for model_name, model in models.items():\n",
    "    f1_scores = cross_val_score(model, X_train, y_train, cv=4, scoring='f1')\n",
    "\n",
    "    metrics['Mean'].append(f1_scores.mean())\n",
    "    metrics['Std'].append(f1_scores.std())\n",
    "\n",
    "df_cross_val = pd.DataFrame(metrics, index=models.keys()).T"
   ]
  },
  {
   "cell_type": "code",
   "execution_count": 111,
   "metadata": {},
   "outputs": [
    {
     "data": {
      "text/html": [
       "<div>\n",
       "<style scoped>\n",
       "    .dataframe tbody tr th:only-of-type {\n",
       "        vertical-align: middle;\n",
       "    }\n",
       "\n",
       "    .dataframe tbody tr th {\n",
       "        vertical-align: top;\n",
       "    }\n",
       "\n",
       "    .dataframe thead th {\n",
       "        text-align: right;\n",
       "    }\n",
       "</style>\n",
       "<table border=\"1\" class=\"dataframe\">\n",
       "  <thead>\n",
       "    <tr style=\"text-align: right;\">\n",
       "      <th></th>\n",
       "      <th>KNN</th>\n",
       "      <th>SVC</th>\n",
       "      <th>Decision Tree</th>\n",
       "      <th>Random Forest</th>\n",
       "      <th>XGBoost</th>\n",
       "    </tr>\n",
       "  </thead>\n",
       "  <tbody>\n",
       "    <tr>\n",
       "      <th>Mean</th>\n",
       "      <td>0.764576</td>\n",
       "      <td>0.783879</td>\n",
       "      <td>0.774198</td>\n",
       "      <td>0.824715</td>\n",
       "      <td>0.831902</td>\n",
       "    </tr>\n",
       "    <tr>\n",
       "      <th>Std</th>\n",
       "      <td>0.003589</td>\n",
       "      <td>0.008199</td>\n",
       "      <td>0.001368</td>\n",
       "      <td>0.003220</td>\n",
       "      <td>0.003961</td>\n",
       "    </tr>\n",
       "  </tbody>\n",
       "</table>\n",
       "</div>"
      ],
      "text/plain": [
       "           KNN       SVC  Decision Tree  Random Forest   XGBoost\n",
       "Mean  0.764576  0.783879       0.774198       0.824715  0.831902\n",
       "Std   0.003589  0.008199       0.001368       0.003220  0.003961"
      ]
     },
     "execution_count": 111,
     "metadata": {},
     "output_type": "execute_result"
    }
   ],
   "source": [
    "df_cross_val"
   ]
  },
  {
   "cell_type": "markdown",
   "metadata": {},
   "source": [
    "dari semua base model, XGBoost memiliki performa yang baik dan stabil dari semua model dikarenakan nilai cross validation mean tertinggi dan std yang rendah"
   ]
  },
  {
   "cell_type": "markdown",
   "metadata": {},
   "source": [
    "## Hyperparameter Tuning"
   ]
  },
  {
   "cell_type": "code",
   "execution_count": 112,
   "metadata": {},
   "outputs": [
    {
     "data": {
      "text/plain": [
       "{'memory': None,\n",
       " 'steps': [('transformer',\n",
       "   ColumnTransformer(transformers=[('scaler', MinMaxScaler(),\n",
       "                                    ['person_age', 'person_income',\n",
       "                                     'person_emp_exp', 'loan_amnt',\n",
       "                                     'loan_int_rate', 'loan_percent_income',\n",
       "                                     'cb_person_cred_hist_length',\n",
       "                                     'credit_score']),\n",
       "                                   ('encoding',\n",
       "                                    OneHotEncoder(handle_unknown='ignore'),\n",
       "                                    ['person_home_ownership', 'loan_intent',\n",
       "                                     'previous_loan_defaults_on_file'])])),\n",
       "  ('classifier', SVC())],\n",
       " 'verbose': False,\n",
       " 'transformer': ColumnTransformer(transformers=[('scaler', MinMaxScaler(),\n",
       "                                  ['person_age', 'person_income',\n",
       "                                   'person_emp_exp', 'loan_amnt',\n",
       "                                   'loan_int_rate', 'loan_percent_income',\n",
       "                                   'cb_person_cred_hist_length',\n",
       "                                   'credit_score']),\n",
       "                                 ('encoding',\n",
       "                                  OneHotEncoder(handle_unknown='ignore'),\n",
       "                                  ['person_home_ownership', 'loan_intent',\n",
       "                                   'previous_loan_defaults_on_file'])]),\n",
       " 'classifier': SVC(),\n",
       " 'transformer__force_int_remainder_cols': True,\n",
       " 'transformer__n_jobs': None,\n",
       " 'transformer__remainder': 'drop',\n",
       " 'transformer__sparse_threshold': 0.3,\n",
       " 'transformer__transformer_weights': None,\n",
       " 'transformer__transformers': [('scaler',\n",
       "   MinMaxScaler(),\n",
       "   ['person_age',\n",
       "    'person_income',\n",
       "    'person_emp_exp',\n",
       "    'loan_amnt',\n",
       "    'loan_int_rate',\n",
       "    'loan_percent_income',\n",
       "    'cb_person_cred_hist_length',\n",
       "    'credit_score']),\n",
       "  ('encoding',\n",
       "   OneHotEncoder(handle_unknown='ignore'),\n",
       "   ['person_home_ownership',\n",
       "    'loan_intent',\n",
       "    'previous_loan_defaults_on_file'])],\n",
       " 'transformer__verbose': False,\n",
       " 'transformer__verbose_feature_names_out': True,\n",
       " 'transformer__scaler': MinMaxScaler(),\n",
       " 'transformer__encoding': OneHotEncoder(handle_unknown='ignore'),\n",
       " 'transformer__scaler__clip': False,\n",
       " 'transformer__scaler__copy': True,\n",
       " 'transformer__scaler__feature_range': (0, 1),\n",
       " 'transformer__encoding__categories': 'auto',\n",
       " 'transformer__encoding__drop': None,\n",
       " 'transformer__encoding__dtype': numpy.float64,\n",
       " 'transformer__encoding__feature_name_combiner': 'concat',\n",
       " 'transformer__encoding__handle_unknown': 'ignore',\n",
       " 'transformer__encoding__max_categories': None,\n",
       " 'transformer__encoding__min_frequency': None,\n",
       " 'transformer__encoding__sparse_output': True,\n",
       " 'classifier__C': 1.0,\n",
       " 'classifier__break_ties': False,\n",
       " 'classifier__cache_size': 200,\n",
       " 'classifier__class_weight': None,\n",
       " 'classifier__coef0': 0.0,\n",
       " 'classifier__decision_function_shape': 'ovr',\n",
       " 'classifier__degree': 3,\n",
       " 'classifier__gamma': 'scale',\n",
       " 'classifier__kernel': 'rbf',\n",
       " 'classifier__max_iter': -1,\n",
       " 'classifier__probability': False,\n",
       " 'classifier__random_state': None,\n",
       " 'classifier__shrinking': True,\n",
       " 'classifier__tol': 0.001,\n",
       " 'classifier__verbose': False}"
      ]
     },
     "execution_count": 112,
     "metadata": {},
     "output_type": "execute_result"
    }
   ],
   "source": [
    "pipe_svc.get_params()"
   ]
  },
  {
   "cell_type": "code",
   "execution_count": 113,
   "metadata": {},
   "outputs": [],
   "source": [
    "\n",
    "\n",
    "param_grid = {\n",
    "    'classifier__learning_rate': [0.01, 0.05, 0.1],\n",
    "    'classifier__n_estimators': [100, 200, 500],\n",
    "    'classifier__max_depth': [3, 6, 10],\n",
    "    'classifier__gamma': [0, 1, 5],\n",
    "}\n"
   ]
  },
  {
   "cell_type": "markdown",
   "metadata": {},
   "source": [
    "- learning rate = Learning rate yang lebih kecil memerlukan jumlah pohon yang lebih banyak untuk mencapai kinerja yang optimal karena model belajar lebih lambat tetapi lebih stabil. \n",
    "- n_estimator = Menentukan jumlah pohon dalam model. \n",
    "- max_depth = Semakin tinggi nilainya maka semakin kompleks modelnya, tetapi terlalu besar dapat menyebabkan overfitting.\n",
    "- gamma = Menentukan regularisasi untuk pembelahan pohon. Semakin besar nilai gamma, semakin besar pembatasan untuk pembelahan pohon."
   ]
  },
  {
   "cell_type": "code",
   "execution_count": 114,
   "metadata": {},
   "outputs": [],
   "source": [
    "grid_xgb = GridSearchCV(pipe_xgb, param_grid, cv=4).fit(X_train, y_train)"
   ]
  },
  {
   "cell_type": "code",
   "execution_count": 115,
   "metadata": {},
   "outputs": [
    {
     "name": "stdout",
     "output_type": "stream",
     "text": [
      "Train Set Score :  0.9604126984126984\n",
      "Test Set Score :  0.9356296296296296\n"
     ]
    }
   ],
   "source": [
    "print('Train Set Score : ', grid_xgb.score(X_train, y_train))\n",
    "print('Test Set Score : ', grid_xgb.score(X_test, y_test))"
   ]
  },
  {
   "cell_type": "code",
   "execution_count": 116,
   "metadata": {},
   "outputs": [
    {
     "name": "stdout",
     "output_type": "stream",
     "text": [
      "{'classifier__gamma': 0, 'classifier__learning_rate': 0.05, 'classifier__max_depth': 6, 'classifier__n_estimators': 500}\n",
      "\n",
      "\n",
      "Pipeline(steps=[('transformer',\n",
      "                 ColumnTransformer(transformers=[('scaler', MinMaxScaler(),\n",
      "                                                  ['person_age',\n",
      "                                                   'person_income',\n",
      "                                                   'person_emp_exp',\n",
      "                                                   'loan_amnt', 'loan_int_rate',\n",
      "                                                   'loan_percent_income',\n",
      "                                                   'cb_person_cred_hist_length',\n",
      "                                                   'credit_score']),\n",
      "                                                 ('encoding',\n",
      "                                                  OneHotEncoder(handle_unknown='ignore'),\n",
      "                                                  ['person_home_ownership',\n",
      "                                                   'loan_intent',\n",
      "                                                   'previous_loan_defaults_on_fi...\n",
      "                               feature_types=None, gamma=0, grow_policy=None,\n",
      "                               importance_type=None,\n",
      "                               interaction_constraints=None, learning_rate=0.05,\n",
      "                               max_bin=None, max_cat_threshold=None,\n",
      "                               max_cat_to_onehot=None, max_delta_step=None,\n",
      "                               max_depth=6, max_leaves=None,\n",
      "                               min_child_weight=None, missing=nan,\n",
      "                               monotone_constraints=None, multi_strategy=None,\n",
      "                               n_estimators=500, n_jobs=None,\n",
      "                               num_parallel_tree=None, random_state=None, ...))])\n",
      "\n",
      "\n",
      "Index(['mean_fit_time', 'std_fit_time', 'mean_score_time', 'std_score_time',\n",
      "       'param_classifier__gamma', 'param_classifier__learning_rate',\n",
      "       'param_classifier__max_depth', 'param_classifier__n_estimators',\n",
      "       'params', 'split0_test_score', 'split1_test_score', 'split2_test_score',\n",
      "       'split3_test_score', 'mean_test_score', 'std_test_score',\n",
      "       'rank_test_score'],\n",
      "      dtype='object')\n"
     ]
    }
   ],
   "source": [
    "best_param_xgb = grid_xgb.best_params_\n",
    "print(best_param_xgb)\n",
    "print('\\n')\n",
    "best_pipe_xgb = grid_xgb.best_estimator_\n",
    "print(best_pipe_xgb)\n",
    "print('\\n')\n",
    "result_df_xgb = pd.DataFrame.from_dict(grid_xgb.cv_results_, orient='columns')\n",
    "print(result_df_xgb.columns)"
   ]
  },
  {
   "cell_type": "code",
   "execution_count": 117,
   "metadata": {},
   "outputs": [
    {
     "name": "stdout",
     "output_type": "stream",
     "text": [
      "Train\n",
      "              precision    recall  f1-score   support\n",
      "\n",
      "           0       0.96      0.99      0.97     24500\n",
      "           1       0.95      0.87      0.91      7000\n",
      "\n",
      "    accuracy                           0.96     31500\n",
      "   macro avg       0.96      0.93      0.94     31500\n",
      "weighted avg       0.96      0.96      0.96     31500\n",
      "\n",
      "Test\n",
      "              precision    recall  f1-score   support\n",
      "\n",
      "           0       0.94      0.97      0.96     10500\n",
      "           1       0.90      0.80      0.85      3000\n",
      "\n",
      "    accuracy                           0.94     13500\n",
      "   macro avg       0.92      0.89      0.90     13500\n",
      "weighted avg       0.93      0.94      0.93     13500\n",
      "\n"
     ]
    }
   ],
   "source": [
    "print('Train')\n",
    "print(classification_report(y_train, best_pipe_xgb.predict(X_train)))\n",
    "print('Test')\n",
    "\n",
    "\n",
    "print(classification_report(y_test, best_pipe_xgb.predict(X_test)))"
   ]
  },
  {
   "cell_type": "markdown",
   "metadata": {},
   "source": [
    "setelah model XGBoost dilakukan hyperparameter tuning, terlihat sedikit lebih baik dari sebelumnya"
   ]
  },
  {
   "cell_type": "code",
   "execution_count": 118,
   "metadata": {},
   "outputs": [],
   "source": [
    "models = {\n",
    "    'XGBoost' : best_pipe_xgb\n",
    "}\n",
    "\n",
    "metrics = {\n",
    "    'Mean': [],\n",
    "    'Std': []\n",
    "}\n",
    "\n",
    "for model_name, model in models.items():\n",
    "    f1_scores = cross_val_score(model, X_train, y_train, cv=4, scoring='f1')\n",
    "\n",
    "    metrics['Mean'].append(f1_scores.mean())\n",
    "    metrics['Std'].append(f1_scores.std())\n",
    "\n",
    "model_tuning = pd.DataFrame(metrics, index=models.keys()).T"
   ]
  },
  {
   "cell_type": "code",
   "execution_count": 119,
   "metadata": {},
   "outputs": [
    {
     "data": {
      "text/html": [
       "<div>\n",
       "<style scoped>\n",
       "    .dataframe tbody tr th:only-of-type {\n",
       "        vertical-align: middle;\n",
       "    }\n",
       "\n",
       "    .dataframe tbody tr th {\n",
       "        vertical-align: top;\n",
       "    }\n",
       "\n",
       "    .dataframe thead th {\n",
       "        text-align: right;\n",
       "    }\n",
       "</style>\n",
       "<table border=\"1\" class=\"dataframe\">\n",
       "  <thead>\n",
       "    <tr style=\"text-align: right;\">\n",
       "      <th></th>\n",
       "      <th>KNN</th>\n",
       "      <th>SVC</th>\n",
       "      <th>Decision Tree</th>\n",
       "      <th>Random Forest</th>\n",
       "      <th>XGBoost</th>\n",
       "    </tr>\n",
       "  </thead>\n",
       "  <tbody>\n",
       "    <tr>\n",
       "      <th>Mean</th>\n",
       "      <td>0.764576</td>\n",
       "      <td>0.783879</td>\n",
       "      <td>0.774198</td>\n",
       "      <td>0.824715</td>\n",
       "      <td>0.831902</td>\n",
       "    </tr>\n",
       "    <tr>\n",
       "      <th>Std</th>\n",
       "      <td>0.003589</td>\n",
       "      <td>0.008199</td>\n",
       "      <td>0.001368</td>\n",
       "      <td>0.003220</td>\n",
       "      <td>0.003961</td>\n",
       "    </tr>\n",
       "  </tbody>\n",
       "</table>\n",
       "</div>"
      ],
      "text/plain": [
       "           KNN       SVC  Decision Tree  Random Forest   XGBoost\n",
       "Mean  0.764576  0.783879       0.774198       0.824715  0.831902\n",
       "Std   0.003589  0.008199       0.001368       0.003220  0.003961"
      ]
     },
     "execution_count": 119,
     "metadata": {},
     "output_type": "execute_result"
    }
   ],
   "source": [
    "df_cross_val"
   ]
  },
  {
   "cell_type": "code",
   "execution_count": 120,
   "metadata": {},
   "outputs": [
    {
     "data": {
      "text/html": [
       "<div>\n",
       "<style scoped>\n",
       "    .dataframe tbody tr th:only-of-type {\n",
       "        vertical-align: middle;\n",
       "    }\n",
       "\n",
       "    .dataframe tbody tr th {\n",
       "        vertical-align: top;\n",
       "    }\n",
       "\n",
       "    .dataframe thead th {\n",
       "        text-align: right;\n",
       "    }\n",
       "</style>\n",
       "<table border=\"1\" class=\"dataframe\">\n",
       "  <thead>\n",
       "    <tr style=\"text-align: right;\">\n",
       "      <th></th>\n",
       "      <th>XGBoost</th>\n",
       "    </tr>\n",
       "  </thead>\n",
       "  <tbody>\n",
       "    <tr>\n",
       "      <th>Mean</th>\n",
       "      <td>0.837836</td>\n",
       "    </tr>\n",
       "    <tr>\n",
       "      <th>Std</th>\n",
       "      <td>0.004502</td>\n",
       "    </tr>\n",
       "  </tbody>\n",
       "</table>\n",
       "</div>"
      ],
      "text/plain": [
       "       XGBoost\n",
       "Mean  0.837836\n",
       "Std   0.004502"
      ]
     },
     "execution_count": 120,
     "metadata": {},
     "output_type": "execute_result"
    }
   ],
   "source": [
    "model_tuning"
   ]
  },
  {
   "cell_type": "markdown",
   "metadata": {},
   "source": [
    "melihat dari cross validation sebelum dan sesudah tuning, nilai mean dari XGBoost meningkat sedikit."
   ]
  },
  {
   "cell_type": "markdown",
   "metadata": {},
   "source": [
    "# 9. Model Saving"
   ]
  },
  {
   "cell_type": "code",
   "execution_count": 121,
   "metadata": {},
   "outputs": [],
   "source": [
    "\n",
    "with open('model_v1.pkl', 'wb') as file:\n",
    "    pickle.dump(best_pipe_xgb, file)"
   ]
  },
  {
   "cell_type": "markdown",
   "metadata": {},
   "source": [
    "# 10. Kesimpulan"
   ]
  },
  {
   "cell_type": "markdown",
   "metadata": {},
   "source": [
    "- setelah membandingkan antara 5 model, model XGBoost memiliki performa yang baik dan stabil meskipun modelnya overfit ringan.\n",
    "- dengan melakukan hyperparameter tuning, model dapat meningkatkan performanya karena dapat menyesuaikan parameter yang dibutuhkan berdasarkan dataset.\n",
    "- dengan mengoptimalkan nilai f1-score, model dapat menghindari memprediksi disetujui tetapi tidak harusnya disetujui dan memprediksi tidak disetujui tetapi harusnya disetujui.\n",
    "- pendidikan dan kesehatan merupakan alasan paling tinggi untuk seseorang melakukan peminjaman.\n",
    "- rekomendasi 1 : peminjam jika ingin melakukan peminjaman, sebaiknya menyesuaikan jumlah yang ingin dipinjam dengan pemasukan pertahunnya.\n",
    "- rekomendasi 2 : dengan menggunakan model ini, peminjam dapat mengetahui apakah mereka layak untuk menerima pinjaman berdasarkan data yang mereka berikan.\n",
    "- rekomendasi 3 :  peminjam sebaiknya tidak meminjam terlalu banyak apabila pernah gagal dalam pembayaran pinjaman sebelumnya.\n"
   ]
  }
 ],
 "metadata": {
  "kernelspec": {
   "display_name": "base",
   "language": "python",
   "name": "python3"
  },
  "language_info": {
   "codemirror_mode": {
    "name": "ipython",
    "version": 3
   },
   "file_extension": ".py",
   "mimetype": "text/x-python",
   "name": "python",
   "nbconvert_exporter": "python",
   "pygments_lexer": "ipython3",
   "version": "3.12.7"
  }
 },
 "nbformat": 4,
 "nbformat_minor": 2
}
